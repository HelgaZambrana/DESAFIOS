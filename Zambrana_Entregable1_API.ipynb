{
 "cells": [
  {
   "cell_type": "code",
   "execution_count": 17,
   "metadata": {},
   "outputs": [],
   "source": [
    "import pandas as pd\n",
    "import requests\n",
    "import json"
   ]
  },
  {
   "attachments": {},
   "cell_type": "markdown",
   "metadata": {},
   "source": [
    "## API AlphaVantage - Intradiario"
   ]
  },
  {
   "cell_type": "code",
   "execution_count": 18,
   "metadata": {},
   "outputs": [
    {
     "ename": "KeyError",
     "evalue": "'Time Series (5min)'",
     "output_type": "error",
     "traceback": [
      "\u001b[1;31m---------------------------------------------------------------------------\u001b[0m",
      "\u001b[1;31mKeyError\u001b[0m                                  Traceback (most recent call last)",
      "\u001b[1;32mc:\\Users\\hvzam\\Documents\\CURSOS\\13_DATA ENGINEERING\\ENTREGAS\\Zambrana_Entregable1_API.ipynb Cell 3\u001b[0m line \u001b[0;36m<cell line: 23>\u001b[1;34m()\u001b[0m\n\u001b[0;32m     <a href='vscode-notebook-cell:/c%3A/Users/hvzam/Documents/CURSOS/13_DATA%20ENGINEERING/ENTREGAS/Zambrana_Entregable1_API.ipynb#W2sZmlsZQ%3D%3D?line=21'>22</a>\u001b[0m \u001b[39m# Obtener y combinar los datos de las acciones en el DataFrame\u001b[39;00m\n\u001b[0;32m     <a href='vscode-notebook-cell:/c%3A/Users/hvzam/Documents/CURSOS/13_DATA%20ENGINEERING/ENTREGAS/Zambrana_Entregable1_API.ipynb#W2sZmlsZQ%3D%3D?line=22'>23</a>\u001b[0m \u001b[39mfor\u001b[39;00m symbol \u001b[39min\u001b[39;00m acciones:\n\u001b[1;32m---> <a href='vscode-notebook-cell:/c%3A/Users/hvzam/Documents/CURSOS/13_DATA%20ENGINEERING/ENTREGAS/Zambrana_Entregable1_API.ipynb#W2sZmlsZQ%3D%3D?line=23'>24</a>\u001b[0m     data \u001b[39m=\u001b[39m getIntra(symbol\u001b[39m=\u001b[39;49msymbol, interval\u001b[39m=\u001b[39;49m\u001b[39m'\u001b[39;49m\u001b[39m5min\u001b[39;49m\u001b[39m'\u001b[39;49m, size\u001b[39m=\u001b[39;49m\u001b[39m'\u001b[39;49m\u001b[39mcompact\u001b[39;49m\u001b[39m'\u001b[39;49m)\n\u001b[0;32m     <a href='vscode-notebook-cell:/c%3A/Users/hvzam/Documents/CURSOS/13_DATA%20ENGINEERING/ENTREGAS/Zambrana_Entregable1_API.ipynb#W2sZmlsZQ%3D%3D?line=24'>25</a>\u001b[0m     data[\u001b[39m'\u001b[39m\u001b[39mSimbolo\u001b[39m\u001b[39m'\u001b[39m] \u001b[39m=\u001b[39m symbol \u001b[39m# Agregar una columna para el símbolo de la acción\u001b[39;00m\n\u001b[0;32m     <a href='vscode-notebook-cell:/c%3A/Users/hvzam/Documents/CURSOS/13_DATA%20ENGINEERING/ENTREGAS/Zambrana_Entregable1_API.ipynb#W2sZmlsZQ%3D%3D?line=25'>26</a>\u001b[0m     combined_data \u001b[39m=\u001b[39m pd\u001b[39m.\u001b[39mconcat([combined_data, data])\n",
      "\u001b[1;32mc:\\Users\\hvzam\\Documents\\CURSOS\\13_DATA ENGINEERING\\ENTREGAS\\Zambrana_Entregable1_API.ipynb Cell 3\u001b[0m line \u001b[0;36mgetIntra\u001b[1;34m(symbol, interval, size)\u001b[0m\n\u001b[0;32m      <a href='vscode-notebook-cell:/c%3A/Users/hvzam/Documents/CURSOS/13_DATA%20ENGINEERING/ENTREGAS/Zambrana_Entregable1_API.ipynb#W2sZmlsZQ%3D%3D?line=5'>6</a>\u001b[0m parametros \u001b[39m=\u001b[39m {\u001b[39m'\u001b[39m\u001b[39mfunction\u001b[39m\u001b[39m'\u001b[39m: function, \u001b[39m'\u001b[39m\u001b[39msymbol\u001b[39m\u001b[39m'\u001b[39m: symbol, \u001b[39m'\u001b[39m\u001b[39minterval\u001b[39m\u001b[39m'\u001b[39m: interval, \u001b[39m'\u001b[39m\u001b[39moutputsize\u001b[39m\u001b[39m'\u001b[39m: size, \u001b[39m'\u001b[39m\u001b[39mdatatype\u001b[39m\u001b[39m'\u001b[39m: json, \u001b[39m'\u001b[39m\u001b[39mapikey\u001b[39m\u001b[39m'\u001b[39m: TOKEN}\n\u001b[0;32m      <a href='vscode-notebook-cell:/c%3A/Users/hvzam/Documents/CURSOS/13_DATA%20ENGINEERING/ENTREGAS/Zambrana_Entregable1_API.ipynb#W2sZmlsZQ%3D%3D?line=7'>8</a>\u001b[0m r \u001b[39m=\u001b[39m requests\u001b[39m.\u001b[39mget(url, params\u001b[39m=\u001b[39mparametros)\n\u001b[1;32m----> <a href='vscode-notebook-cell:/c%3A/Users/hvzam/Documents/CURSOS/13_DATA%20ENGINEERING/ENTREGAS/Zambrana_Entregable1_API.ipynb#W2sZmlsZQ%3D%3D?line=8'>9</a>\u001b[0m data \u001b[39m=\u001b[39m r\u001b[39m.\u001b[39;49mjson()[\u001b[39m'\u001b[39;49m\u001b[39mTime Series (\u001b[39;49m\u001b[39m'\u001b[39;49m\u001b[39m+\u001b[39;49minterval\u001b[39m+\u001b[39;49m\u001b[39m'\u001b[39;49m\u001b[39m)\u001b[39;49m\u001b[39m'\u001b[39;49m]\n\u001b[0;32m     <a href='vscode-notebook-cell:/c%3A/Users/hvzam/Documents/CURSOS/13_DATA%20ENGINEERING/ENTREGAS/Zambrana_Entregable1_API.ipynb#W2sZmlsZQ%3D%3D?line=9'>10</a>\u001b[0m dataDF \u001b[39m=\u001b[39m pd\u001b[39m.\u001b[39mDataFrame\u001b[39m.\u001b[39mfrom_dict(data, orient\u001b[39m=\u001b[39m\u001b[39m'\u001b[39m\u001b[39mindex\u001b[39m\u001b[39m'\u001b[39m) \u001b[39m# Convertir a DataFrame\u001b[39;00m\n\u001b[0;32m     <a href='vscode-notebook-cell:/c%3A/Users/hvzam/Documents/CURSOS/13_DATA%20ENGINEERING/ENTREGAS/Zambrana_Entregable1_API.ipynb#W2sZmlsZQ%3D%3D?line=10'>11</a>\u001b[0m dataDF \u001b[39m=\u001b[39m dataDF\u001b[39m.\u001b[39mastype(\u001b[39m'\u001b[39m\u001b[39mfloat\u001b[39m\u001b[39m'\u001b[39m)\n",
      "\u001b[1;31mKeyError\u001b[0m: 'Time Series (5min)'"
     ]
    }
   ],
   "source": [
    "TOKEN = '35WLYX86SXGX3OCW'\n",
    "\n",
    "def getIntra(symbol, interval, size):\n",
    "    function = 'TIME_SERIES_INTRADAY'\n",
    "    url = 'https://www.alphavantage.co/query'\n",
    "    parametros = {'function': function, 'symbol': symbol, 'interval': interval, 'outputsize': size, 'datatype': json, 'apikey': TOKEN}\n",
    "    \n",
    "    r = requests.get(url, params=parametros)\n",
    "    data = r.json()['Time Series ('+interval+')']\n",
    "    dataDF = pd.DataFrame.from_dict(data, orient='index') # Convertir a DataFrame\n",
    "    dataDF = dataDF.astype('float')\n",
    "    dataDF.index.name = 'Fecha'\n",
    "    dataDF.columns = ['Apertura', 'Maximo', 'Minimo', 'Cierre', 'Volumen']\n",
    "    dataDF = dataDF.sort_values('Fecha', ascending=True)\n",
    "    dataDF.index = pd.to_datetime(dataDF.index)\n",
    "    return dataDF\n",
    "\n",
    "acciones = ['AMZN', 'AAPL', 'GOOGL', 'MELI', 'NFLX', 'PINS'] # Lista de símbolos de acciones que voy a consultar\n",
    "\n",
    "combined_data = pd.DataFrame() # Inicializar un DataFrame vacío para combinar los datos\n",
    "\n",
    "# Obtener y combinar los datos de las acciones en el DataFrame\n",
    "for symbol in acciones:\n",
    "    data = getIntra(symbol=symbol, interval='5min', size='compact')\n",
    "    data['Simbolo'] = symbol # Agregar una columna para el símbolo de la acción\n",
    "    combined_data = pd.concat([combined_data, data])\n",
    "\n",
    "combined_data = combined_data.round(3) # Redondear los valores a tres decimales\n",
    "\n",
    "print(combined_data) # Imprimir el DataFrame combinado"
   ]
  }
 ],
 "metadata": {
  "kernelspec": {
   "display_name": "Python 3",
   "language": "python",
   "name": "python3"
  },
  "language_info": {
   "codemirror_mode": {
    "name": "ipython",
    "version": 3
   },
   "file_extension": ".py",
   "mimetype": "text/x-python",
   "name": "python",
   "nbconvert_exporter": "python",
   "pygments_lexer": "ipython3",
   "version": "3.10.10"
  },
  "orig_nbformat": 4
 },
 "nbformat": 4,
 "nbformat_minor": 2
}
