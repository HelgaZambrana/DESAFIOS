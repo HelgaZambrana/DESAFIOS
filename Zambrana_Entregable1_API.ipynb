{
 "cells": [
  {
   "cell_type": "code",
   "execution_count": 1,
   "metadata": {},
   "outputs": [],
   "source": [
    "import pandas as pd\n",
    "import requests\n",
    "import json"
   ]
  },
  {
   "attachments": {},
   "cell_type": "markdown",
   "metadata": {},
   "source": [
    "## API AlphaVantage - Intradiario"
   ]
  },
  {
   "cell_type": "code",
   "execution_count": 2,
   "metadata": {},
   "outputs": [
    {
     "name": "stdout",
     "output_type": "stream",
     "text": [
      "                     Apertura  Maximo   Minimo  Cierre   Volumen Simbolo\n",
      "Fecha                                                                   \n",
      "2024-03-28 11:40:00    180.71  180.80  180.280  180.30  426021.0    AMZN\n",
      "2024-03-28 11:45:00    180.30  180.44  180.215  180.39  317814.0    AMZN\n",
      "2024-03-28 11:50:00    180.40  180.60  180.310  180.57  271288.0    AMZN\n",
      "2024-03-28 11:55:00    180.56  180.66  180.370  180.62  257280.0    AMZN\n",
      "2024-03-28 12:00:00    180.62  180.66  180.250  180.28  207386.0    AMZN\n",
      "...                       ...     ...      ...     ...       ...     ...\n",
      "2024-03-28 19:25:00     34.61   34.61   34.590   34.59     125.0    PINS\n",
      "2024-03-28 19:30:00     34.64   35.00   34.620   34.84    1111.0    PINS\n",
      "2024-03-28 19:45:00     34.85   34.85   34.680   34.68      24.0    PINS\n",
      "2024-03-28 19:50:00     34.68   34.68   34.680   34.68       5.0    PINS\n",
      "2024-03-28 19:55:00     34.85   34.85   34.850   34.85      64.0    PINS\n",
      "\n",
      "[500 rows x 6 columns]\n"
     ]
    }
   ],
   "source": [
    "TOKEN = '35WLYX86SXGX3OCW'\n",
    "\n",
    "def getIntra(symbol, interval, size):\n",
    "    function = 'TIME_SERIES_INTRADAY'\n",
    "    url = 'https://www.alphavantage.co/query'\n",
    "    parametros = {\n",
    "        'function': function, \n",
    "        'symbol': symbol, \n",
    "        'interval': interval, \n",
    "        'outputsize': size, \n",
    "        'datatype': json, \n",
    "        'apikey': TOKEN\n",
    "    }\n",
    "    \n",
    "    r = requests.get(url, params=parametros) # response\n",
    "    data = r.json()['Time Series ('+interval+')']\n",
    "    dataDF = pd.DataFrame.from_dict(data, orient='index') # Convertir a DataFrame\n",
    "    dataDF = dataDF.astype('float')\n",
    "    dataDF.index.name = 'Fecha'\n",
    "    dataDF.columns = ['Apertura', 'Maximo', 'Minimo', 'Cierre', 'Volumen']\n",
    "    dataDF = dataDF.sort_values('Fecha', ascending=True)\n",
    "    dataDF.index = pd.to_datetime(dataDF.index)\n",
    "    return dataDF\n",
    "\n",
    "acciones = ['AMZN', 'MELI', 'AAPL', 'GOOGL', 'PINS'] # Lista de símbolos de acciones que voy a consultar\n",
    "\n",
    "combined_data = pd.DataFrame() # Inicializar un DataFrame vacío para combinar los datos\n",
    "\n",
    "# Obtener y combinar los datos de las acciones en el DataFrame\n",
    "for accion in acciones:\n",
    "    data = getIntra(symbol=accion, interval='5min', size='compact')\n",
    "    data['Simbolo'] = accion # Agregar una columna para el símbolo de la acción\n",
    "    combined_data = pd.concat([combined_data, data])\n",
    "\n",
    "combined_data = combined_data.round(3) # Redondear los valores a tres decimales\n",
    "\n",
    "print(combined_data) # Imprimir el DataFrame combinado"
   ]
  }
 ],
 "metadata": {
  "kernelspec": {
   "display_name": "Python 3",
   "language": "python",
   "name": "python3"
  },
  "language_info": {
   "codemirror_mode": {
    "name": "ipython",
    "version": 3
   },
   "file_extension": ".py",
   "mimetype": "text/x-python",
   "name": "python",
   "nbconvert_exporter": "python",
   "pygments_lexer": "ipython3",
   "version": "3.10.10"
  },
  "orig_nbformat": 4
 },
 "nbformat": 4,
 "nbformat_minor": 2
}
