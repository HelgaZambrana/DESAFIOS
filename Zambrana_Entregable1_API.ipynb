{
 "cells": [
  {
   "cell_type": "code",
   "execution_count": 13,
   "metadata": {},
   "outputs": [],
   "source": [
    "import pandas as pd\n",
    "import requests\n",
    "import json"
   ]
  },
  {
   "attachments": {},
   "cell_type": "markdown",
   "metadata": {},
   "source": [
    "## API AlphaVantage - Intradiario"
   ]
  },
  {
   "cell_type": "code",
   "execution_count": 14,
   "metadata": {},
   "outputs": [
    {
     "name": "stdout",
     "output_type": "stream",
     "text": [
      "                     Apertura   Maximo    Minimo   Cierre  Volumen Symbol\n",
      "Fecha                                                                    \n",
      "2023-10-10 09:20:00  1242.000  1242.00  1242.000  1242.00    134.0   MELI\n",
      "2023-10-10 09:25:00  1242.990  1248.00  1239.010  1247.00    258.0   MELI\n",
      "2023-10-10 09:30:00  1245.200  1248.00  1242.000  1247.81   5874.0   MELI\n",
      "2023-10-10 09:35:00  1248.995  1257.31  1248.995  1257.10   5223.0   MELI\n",
      "2023-10-10 09:40:00  1258.000  1261.48  1256.118  1261.48   4875.0   MELI\n",
      "...                       ...      ...       ...      ...      ...    ...\n",
      "2023-10-10 19:35:00   138.130   138.18   138.130   138.15   1935.0  GOOGL\n",
      "2023-10-10 19:40:00   138.200   138.20   138.110   138.13    169.0  GOOGL\n",
      "2023-10-10 19:45:00   138.200   138.20   138.130   138.15    437.0  GOOGL\n",
      "2023-10-10 19:50:00   138.150   138.19   138.150   138.17   1278.0  GOOGL\n",
      "2023-10-10 19:55:00   138.180   138.19   138.110   138.15   2478.0  GOOGL\n",
      "\n",
      "[300 rows x 6 columns]\n"
     ]
    }
   ],
   "source": [
    "TOKEN = '35WLYX86SXGX3OCW'\n",
    "\n",
    "def getIntra(symbol, interval, size):\n",
    "    function = 'TIME_SERIES_INTRADAY'\n",
    "    url = 'https://www.alphavantage.co/query'\n",
    "    parametros = {'function': function, 'symbol': symbol, 'interval': interval, 'outputsize': size, 'datatype': json, 'apikey': TOKEN}\n",
    "    \n",
    "    r = requests.get(url, params=parametros)\n",
    "    data = r.json()['Time Series ('+interval+')']\n",
    "    dataDF = pd.DataFrame.from_dict(data, orient='index') # Convertir a DataFrame\n",
    "    dataDF = dataDF.astype('float')\n",
    "    dataDF.index.name = 'Fecha'\n",
    "    dataDF.columns = ['Apertura', 'Maximo', 'Minimo', 'Cierre', 'Volumen']\n",
    "    dataDF = dataDF.sort_values('Fecha', ascending=True)\n",
    "    dataDF.index = pd.to_datetime(dataDF.index)\n",
    "    return dataDF\n",
    "\n",
    "acciones = ['MELI', 'AAPL', 'GOOGL'] # Lista de símbolos de acciones que voy a consultar\n",
    "\n",
    "combined_data = pd.DataFrame() # Inicializar un DataFrame vacío para combinar los datos\n",
    "\n",
    "# Obtener y combinar los datos de las acciones en el DataFrame\n",
    "for symbol in acciones:\n",
    "    data = getIntra(symbol=symbol, interval='5min', size='compact')\n",
    "    data['Symbol'] = symbol # Agregar una columna para el símbolo de la acción\n",
    "    combined_data = pd.concat([combined_data, data])\n",
    "\n",
    "combined_data = combined_data.round(3) # Redondear los valores a tres decimales\n",
    "\n",
    "print(combined_data) # Imprimir el DataFrame combinado"
   ]
  }
 ],
 "metadata": {
  "kernelspec": {
   "display_name": "Python 3",
   "language": "python",
   "name": "python3"
  },
  "language_info": {
   "codemirror_mode": {
    "name": "ipython",
    "version": 3
   },
   "file_extension": ".py",
   "mimetype": "text/x-python",
   "name": "python",
   "nbconvert_exporter": "python",
   "pygments_lexer": "ipython3",
   "version": "3.10.10"
  },
  "orig_nbformat": 4
 },
 "nbformat": 4,
 "nbformat_minor": 2
}
