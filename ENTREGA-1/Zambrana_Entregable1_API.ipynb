{
 "cells": [
  {
   "cell_type": "code",
   "execution_count": 21,
   "metadata": {},
   "outputs": [],
   "source": [
    "import pandas as pd\n",
    "import requests\n",
    "import json"
   ]
  },
  {
   "attachments": {},
   "cell_type": "markdown",
   "metadata": {},
   "source": [
    "## API AlphaVantage - Intradiario"
   ]
  },
  {
   "cell_type": "code",
   "execution_count": 24,
   "metadata": {},
   "outputs": [
    {
     "name": "stdout",
     "output_type": "stream",
     "text": [
      "                     Apertura  Maximo   Minimo   Cierre   Volumen Simbolo\n",
      "Fecha                                                                    \n",
      "2023-10-10 11:40:00   130.410  130.55  130.340  130.550  324297.0    AMZN\n",
      "2023-10-10 11:45:00   130.545  130.56  130.370  130.518  275804.0    AMZN\n",
      "2023-10-10 11:50:00   130.520  130.61  130.490  130.610  322805.0    AMZN\n",
      "2023-10-10 11:55:00   130.610  130.72  130.483  130.502  381975.0    AMZN\n",
      "2023-10-10 12:00:00   130.505  130.57  130.400  130.552  436932.0    AMZN\n",
      "...                       ...     ...      ...      ...       ...     ...\n",
      "2023-10-10 19:25:00    28.680   28.68   28.680   28.680      15.0    PINS\n",
      "2023-10-10 19:35:00    28.670   28.68   28.670   28.680      50.0    PINS\n",
      "2023-10-10 19:40:00    28.670   28.67   28.670   28.670      16.0    PINS\n",
      "2023-10-10 19:50:00    28.540   28.71   28.540   28.700    3659.0    PINS\n",
      "2023-10-10 19:55:00    28.980   28.98   28.750   28.750       6.0    PINS\n",
      "\n",
      "[500 rows x 6 columns]\n"
     ]
    }
   ],
   "source": [
    "TOKEN = '35WLYX86SXGX3OCW'\n",
    "\n",
    "def getIntra(symbol, interval, size):\n",
    "    function = 'TIME_SERIES_INTRADAY'\n",
    "    url = 'https://www.alphavantage.co/query'\n",
    "    parametros = {\n",
    "        'function': function, \n",
    "        'symbol': symbol, \n",
    "        'interval': interval, \n",
    "        'outputsize': size, \n",
    "        'datatype': json, \n",
    "        'apikey': TOKEN\n",
    "    }\n",
    "    \n",
    "    r = requests.get(url, params=parametros) # response\n",
    "    data = r.json()['Time Series ('+interval+')']\n",
    "    dataDF = pd.DataFrame.from_dict(data, orient='index') # Convertir a DataFrame\n",
    "    dataDF = dataDF.astype('float')\n",
    "    dataDF.index.name = 'Fecha'\n",
    "    dataDF.columns = ['Apertura', 'Maximo', 'Minimo', 'Cierre', 'Volumen']\n",
    "    dataDF = dataDF.sort_values('Fecha', ascending=True)\n",
    "    dataDF.index = pd.to_datetime(dataDF.index)\n",
    "    return dataDF\n",
    "\n",
    "acciones = ['AMZN', 'MELI', 'AAPL', 'GOOGL', 'PINS'] # Lista de símbolos de acciones que voy a consultar\n",
    "\n",
    "combined_data = pd.DataFrame() # Inicializar un DataFrame vacío para combinar los datos\n",
    "\n",
    "# Obtener y combinar los datos de las acciones en el DataFrame\n",
    "for accion in acciones:\n",
    "    data = getIntra(symbol=accion, interval='5min', size='compact')\n",
    "    data['Simbolo'] = accion # Agregar una columna para el símbolo de la acción\n",
    "    combined_data = pd.concat([combined_data, data])\n",
    "\n",
    "combined_data = combined_data.round(3) # Redondear los valores a tres decimales\n",
    "\n",
    "print(combined_data) # Imprimir el DataFrame combinado"
   ]
  }
 ],
 "metadata": {
  "kernelspec": {
   "display_name": "Python 3",
   "language": "python",
   "name": "python3"
  },
  "language_info": {
   "codemirror_mode": {
    "name": "ipython",
    "version": 3
   },
   "file_extension": ".py",
   "mimetype": "text/x-python",
   "name": "python",
   "nbconvert_exporter": "python",
   "pygments_lexer": "ipython3",
   "version": "3.10.10"
  },
  "orig_nbformat": 4
 },
 "nbformat": 4,
 "nbformat_minor": 2
}
