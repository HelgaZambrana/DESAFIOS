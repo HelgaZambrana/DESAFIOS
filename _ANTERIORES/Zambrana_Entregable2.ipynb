{
 "cells": [
  {
   "cell_type": "code",
   "execution_count": 2,
   "metadata": {},
   "outputs": [],
   "source": [
    "import pandas as pd\n",
    "import requests\n",
    "import json"
   ]
  },
  {
   "attachments": {},
   "cell_type": "markdown",
   "metadata": {},
   "source": [
    "## API AlphaVantage - Intradiario"
   ]
  },
  {
   "cell_type": "code",
   "execution_count": 1,
   "metadata": {},
   "outputs": [],
   "source": [
    "with open(\"C:/Users/hvzam/pwd_coder.txt\", \"r\") as f:\n",
    "    password = f.read()\n",
    "    \n",
    "with open(\"C:/Users/hvzam/token_alphavantage_coder.txt\", \"r\") as f:\n",
    "    token = f.read()"
   ]
  },
  {
   "cell_type": "code",
   "execution_count": 3,
   "metadata": {},
   "outputs": [
    {
     "name": "stdout",
     "output_type": "stream",
     "text": [
      "                     Apertura   Maximo   Minimo   Cierre   Volumen Simbolo\n",
      "Fecha                                                                     \n",
      "2023-10-13 11:40:00   130.580  130.645  130.330  130.370  357837.0    AMZN\n",
      "2023-10-13 11:45:00   130.370  130.400  130.200  130.275  293090.0    AMZN\n",
      "2023-10-13 11:50:00   130.305  130.306  129.931  129.965  471138.0    AMZN\n",
      "2023-10-13 11:55:00   129.955  129.980  129.810  129.880  821916.0    AMZN\n",
      "2023-10-13 12:00:00   129.880  130.045  129.820  129.920  363596.0    AMZN\n",
      "...                       ...      ...      ...      ...       ...     ...\n",
      "2023-10-13 19:25:00    26.620   26.620   26.620   26.620     231.0    PINS\n",
      "2023-10-13 19:30:00    26.610   26.620   26.610   26.620       3.0    PINS\n",
      "2023-10-13 19:35:00    26.610   26.610   26.520   26.520     499.0    PINS\n",
      "2023-10-13 19:45:00    26.520   26.520   26.520   26.520      50.0    PINS\n",
      "2023-10-13 19:55:00    26.620   26.620   26.620   26.620      22.0    PINS\n",
      "\n",
      "[500 rows x 6 columns]\n"
     ]
    }
   ],
   "source": [
    "def getIntra(symbol, interval, size):\n",
    "    function = 'TIME_SERIES_INTRADAY'\n",
    "    url = 'https://www.alphavantage.co/query'\n",
    "    parametros = {'function': function, 'symbol': symbol, 'interval': interval, 'outputsize': size, 'datatype': json, 'apikey': token}\n",
    "    \n",
    "    r = requests.get(url, params=parametros)\n",
    "    data = r.json()['Time Series ('+interval+')']\n",
    "    dataDF = pd.DataFrame.from_dict(data, orient='index') # Convertir a DataFrame\n",
    "    dataDF = dataDF.astype('float')\n",
    "    dataDF.index.name = 'Fecha'\n",
    "    dataDF.columns = ['Apertura', 'Maximo', 'Minimo', 'Cierre', 'Volumen']\n",
    "    dataDF = dataDF.sort_values('Fecha', ascending=True)\n",
    "    dataDF.index = pd.to_datetime(dataDF.index)\n",
    "    return dataDF\n",
    "\n",
    "acciones = ['AMZN', 'MELI', 'AAPL', 'GOOGL', 'PINS'] # Lista de símbolos de acciones que voy a consultar\n",
    "\n",
    "combined_data = pd.DataFrame() # Inicializar un DataFrame vacío para combinar los datos\n",
    "\n",
    "# Obtener y combinar los datos de las acciones en el DataFrame\n",
    "for accion in acciones:\n",
    "    data = getIntra(symbol=accion, interval='5min', size='compact')\n",
    "    data['Simbolo'] = accion # Agregar una columna para el símbolo de la acción\n",
    "    combined_data = pd.concat([combined_data, data])\n",
    "\n",
    "combined_data = combined_data.round(3) # Redondear los valores a tres decimales\n",
    "\n",
    "print(combined_data) # Imprimir el DataFrame combinado\n"
   ]
  },
  {
   "cell_type": "code",
   "execution_count": 14,
   "metadata": {},
   "outputs": [
    {
     "name": "stdout",
     "output_type": "stream",
     "text": [
      "Conexión a la base de datos exitosa\n"
     ]
    }
   ],
   "source": [
    "import psycopg2\n",
    "\n",
    "try:\n",
    "    conn = psycopg2.connect(host=\"data-engineer-cluster.cyhh5bfevlmn.us-east-1.redshift.amazonaws.com\", port = 5439, database=\"data-engineer-database\", user=\"hvzambrana_coderhouse\", password=password)\n",
    "    print(\"Conexión a la base de datos exitosa\")\n",
    "except Exception as e:\n",
    "    print(\"Falló al crear la conexión\")\n",
    "    print(e)"
   ]
  },
  {
   "cell_type": "code",
   "execution_count": 15,
   "metadata": {},
   "outputs": [],
   "source": [
    "try:\n",
    "    cur = conn.cursor()\n",
    "    cur.execute(\"\"\"\n",
    "    CREATE TABLE IF NOT EXISTS hvzambrana_coderhouse.alphavantage2 (\n",
    "        simbolo VARCHAR(10) NULL,\n",
    "        fecha TIMESTAMP NULL,\n",
    "        apertura FLOAT(15) NULL,\n",
    "        maximo FLOAT(15) NULL,\n",
    "        minimo FLOAT(15) NULL,\n",
    "        cierre FLOAT(15) NULL,\n",
    "        volumen FLOAT(15) NULL\n",
    "    );\"\"\")\n",
    "\n",
    "except Exception as e:\n",
    "    print(\"Falló al crear la tabla\")\n",
    "    print(e)"
   ]
  },
  {
   "cell_type": "code",
   "execution_count": null,
   "metadata": {},
   "outputs": [],
   "source": [
    "for row in rows:\n",
    "    conn.execute(\"\"\"\n",
    "    INSERT INTO hvzambrana_coderhouse.alphavantage(simbolo...) values(row[\"simbolo\"]...)\n",
    "                \"\"\")"
   ]
  }
 ],
 "metadata": {
  "kernelspec": {
   "display_name": "Python 3",
   "language": "python",
   "name": "python3"
  },
  "language_info": {
   "codemirror_mode": {
    "name": "ipython",
    "version": 3
   },
   "file_extension": ".py",
   "mimetype": "text/x-python",
   "name": "python",
   "nbconvert_exporter": "python",
   "pygments_lexer": "ipython3",
   "version": "3.10.10"
  },
  "orig_nbformat": 4
 },
 "nbformat": 4,
 "nbformat_minor": 2
}
