{
 "cells": [
  {
   "attachments": {},
   "cell_type": "markdown",
   "metadata": {},
   "source": [
    "## API Tiingo - Diario"
   ]
  },
  {
   "cell_type": "markdown",
   "metadata": {},
   "source": [
    "#### Importar las librerías necesarias"
   ]
  },
  {
   "cell_type": "code",
   "execution_count": 1,
   "metadata": {},
   "outputs": [],
   "source": [
    "import requests\n",
    "from decouple import config\n",
    "import pandas as pd\n",
    "import psycopg2\n",
    "import datetime"
   ]
  },
  {
   "cell_type": "markdown",
   "metadata": {},
   "source": [
    "#### Leer la contraseña y el token desde la variable de entorno"
   ]
  },
  {
   "cell_type": "code",
   "execution_count": 2,
   "metadata": {},
   "outputs": [],
   "source": [
    "my_host = config('DATABASE_HOST')\n",
    "port = config('DATABASE_PORT')\n",
    "password = config('DATABASE_PASSWORD')\n",
    "database_name = config('DATABASE_NAME')\n",
    "user = config('DATABASE_USER')\n",
    "token = config('TIINGO_TOKEN')"
   ]
  },
  {
   "cell_type": "markdown",
   "metadata": {},
   "source": [
    "#### Obtener datos de Tiingo y mostrarlos en un dataframe"
   ]
  },
  {
   "cell_type": "code",
   "execution_count": 4,
   "metadata": {},
   "outputs": [
    {
     "name": "stdout",
     "output_type": "stream",
     "text": [
      "                         Fecha  Cierre  Máximo   Mínimo  Apertura    Volumen  \\\n",
      "0    2023-01-03 00:00:00+00:00   85.82   86.96   84.205     85.46   76706040   \n",
      "1    2023-01-04 00:00:00+00:00   85.14   86.98   83.360     86.55   68885123   \n",
      "2    2023-01-05 00:00:00+00:00   83.12   85.42   83.070     85.33   67930825   \n",
      "3    2023-01-06 00:00:00+00:00   86.08   86.40   81.430     83.03   83303361   \n",
      "4    2023-01-09 00:00:00+00:00   87.36   89.48   87.080     87.46   65266056   \n",
      "...                        ...     ...     ...      ...       ...        ...   \n",
      "1550 2024-03-22 00:00:00+00:00  170.83  171.20  166.300    166.69   75580637   \n",
      "1551 2024-03-25 00:00:00+00:00  172.63  175.24  168.730    168.76   74228615   \n",
      "1552 2024-03-26 00:00:00+00:00  177.67  184.25  177.380    178.58  113186227   \n",
      "1553 2024-03-27 00:00:00+00:00  179.83  181.91  176.000    181.41   81804043   \n",
      "1554 2024-03-28 00:00:00+00:00  175.79  179.57  175.300    177.45   77654838   \n",
      "\n",
      "     Símbolo  \n",
      "0       AMZN  \n",
      "1       AMZN  \n",
      "2       AMZN  \n",
      "3       AMZN  \n",
      "4       AMZN  \n",
      "...      ...  \n",
      "1550    TSLA  \n",
      "1551    TSLA  \n",
      "1552    TSLA  \n",
      "1553    TSLA  \n",
      "1554    TSLA  \n",
      "\n",
      "[1555 rows x 7 columns]\n",
      "TiingoData object\n",
      "TiingoData object\n"
     ]
    }
   ],
   "source": [
    "class TiingoData:\n",
    "    # Inicializar atributos de la clase\n",
    "    def __init__(self, token):\n",
    "        self.token = token\n",
    "\n",
    "    def __call__(self, simbolos):\n",
    "        precios = []\n",
    "\n",
    "        for simbolo in simbolos:\n",
    "            url = f\"https://api.tiingo.com/tiingo/daily/{simbolo}/prices\"\n",
    "            parametros = {\n",
    "                'startDate': '2023-01-01',\n",
    "                'endDate': datetime.date.today().isoformat(),\n",
    "                'format': 'json',\n",
    "            }\n",
    "            headers = {\n",
    "                'Authorization': f'Token {self.token}'  # Agregar el token enmascarado en los headers\n",
    "            }\n",
    "\n",
    "            try:\n",
    "                respuesta = requests.get(url, params=parametros, headers=headers)\n",
    "                respuesta.raise_for_status()  # Lanzar una excepción si la solicitud no es exitosa\n",
    "                datos = respuesta.json()\n",
    "                \n",
    "                # Verificar la estructura de los datos\n",
    "                if isinstance(datos, list) and all(isinstance(item, dict) for item in datos):\n",
    "                    for dato in datos:\n",
    "                        dato['ticker'] = simbolo  # Agregar el símbolo a cada fila porque si no, no lo trae\n",
    "                    precios.extend(datos)\n",
    "                else:\n",
    "                    print(f\"Los datos recibidos para el símbolo {simbolo} no están en el formato esperado.\")\n",
    "            except requests.exceptions.RequestException as e:\n",
    "                print(f\"Error al hacer la solicitud para el símbolo {simbolo}:\", e)\n",
    "\n",
    "        if precios:\n",
    "            # Convertir los datos en un DataFrame de pandas\n",
    "            df = pd.DataFrame(precios)\n",
    "            \n",
    "            # Filtrar las columnas no deseadas\n",
    "            columnas_no_deseadas = ['adjClose', 'adjHigh', 'adjLow', 'adjOpen', 'adjVolume', 'divCash', 'splitFactor']\n",
    "            df = df.drop(columns=columnas_no_deseadas, errors='ignore')\n",
    "            \n",
    "            # Filtrar y renombrar las columnas necesarias\n",
    "            columnas = {\n",
    "                'date': 'Fecha',\n",
    "                'ticker': 'Símbolo',\n",
    "                'open': 'Apertura',\n",
    "                'high': 'Máximo',\n",
    "                'low': 'Mínimo',\n",
    "                'close': 'Cierre',\n",
    "                'volume': 'Volumen',\n",
    "            }\n",
    "            df.rename(columns=columnas, inplace=True)\n",
    "            \n",
    "            # Convertir la columna de fecha a tipo datetime\n",
    "            df['Fecha'] = pd.to_datetime(df['Fecha'])\n",
    "            \n",
    "            return df\n",
    "        else:\n",
    "            return None\n",
    "\n",
    "    def __str__(self):\n",
    "        return \"TiingoData object\"\n",
    "\n",
    "    def __format__(self, format_spec):\n",
    "        return \"TiingoData object\"  \n",
    "\n",
    "\n",
    "# Lista de símbolos a consultar\n",
    "simbolos = ['AMZN', 'AAPL', 'GOOGL', 'MSFT', 'TSLA']\n",
    "\n",
    "# Crear instancia de TiingoData\n",
    "tiingo_data = TiingoData(token)\n",
    "\n",
    "# Obtener y mostrar los datos\n",
    "datos_tiingo_df = tiingo_data(simbolos)\n",
    "if datos_tiingo_df is not None:\n",
    "    print(datos_tiingo_df)\n",
    "\n",
    "print(tiingo_data)  # Prueba de __str__\n",
    "print(f\"{tiingo_data:custom_format}\")  # Prueba de __format__\n"
   ]
  },
  {
   "cell_type": "markdown",
   "metadata": {},
   "source": [
    "#### Conectarse con Amazon Redshift y crear tabla (si no existe)"
   ]
  },
  {
   "cell_type": "code",
   "execution_count": 55,
   "metadata": {},
   "outputs": [
    {
     "name": "stdout",
     "output_type": "stream",
     "text": [
      "Conexión a la base de datos exitosa.\n",
      "Tabla creada exitosamente.\n",
      "Conexión cerrada correctamente.\n"
     ]
    }
   ],
   "source": [
    "from datetime import datetime\n",
    "\n",
    "# Fecha y hora actual\n",
    "fecha_actual = datetime.now().strftime('%Y-%m-%d %H:%M:%S')\n",
    "\n",
    "#Conectar con la base de datos\n",
    "try:\n",
    "    conn = psycopg2.connect(\n",
    "        host=my_host, \n",
    "        port=port, \n",
    "        database=database_name, \n",
    "        user=user, \n",
    "        password=password\n",
    "    )\n",
    "    print(\"Conexión a la base de datos exitosa.\")\n",
    "\n",
    "    # Crear tabla con columna temporal de fecha y hora de ingesta\n",
    "    try:\n",
    "        cur = conn.cursor()\n",
    "        cur.execute(\"\"\"\n",
    "        CREATE TABLE IF NOT EXISTS hvzambrana_coderhouse.tiingo (\n",
    "            simbolo VARCHAR(10) DISTKEY NOT NULL,\n",
    "            fecha_ingesta TIMESTAMP DEFAULT CURRENT_TIMESTAMP, \n",
    "            fecha TIMESTAMP SORTKEY NOT NULL,\n",
    "            apertura FLOAT(15) NULL,\n",
    "            maximo FLOAT(15) NULL,\n",
    "            minimo FLOAT(15) NULL,\n",
    "            cierre FLOAT(15) NULL,\n",
    "            volumen INTEGER NULL\n",
    "        );\n",
    "        \"\"\")\n",
    "        conn.commit()\n",
    "        print(\"Tabla creada exitosamente.\")\n",
    "    except Exception as e:\n",
    "            print(f\"Error al crear la tabla:\", e) # Imprimir la descripción del error\n",
    "\n",
    "except Exception as e:\n",
    "    print(f\"Error al crear la conexión a la base de datos:\", e) # Imprimir la descripción del error\n",
    "finally:\n",
    "    if conn is not None:\n",
    "        conn.close()\n",
    "        print(\"Conexión cerrada correctamente.\")"
   ]
  }
 ],
 "metadata": {
  "kernelspec": {
   "display_name": "Python 3",
   "language": "python",
   "name": "python3"
  },
  "language_info": {
   "codemirror_mode": {
    "name": "ipython",
    "version": 3
   },
   "file_extension": ".py",
   "mimetype": "text/x-python",
   "name": "python",
   "nbconvert_exporter": "python",
   "pygments_lexer": "ipython3",
   "version": "3.10.10"
  },
  "orig_nbformat": 4
 },
 "nbformat": 4,
 "nbformat_minor": 2
}
