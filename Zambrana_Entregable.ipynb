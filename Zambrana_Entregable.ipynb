{
 "cells": [
  {
   "attachments": {},
   "cell_type": "markdown",
   "metadata": {},
   "source": [
    "## API Tiingo - Diario\n",
    "###### Helga Zambrana - Abril 2024"
   ]
  },
  {
   "cell_type": "markdown",
   "metadata": {},
   "source": [
    "#### Importar las librerías necesarias"
   ]
  },
  {
   "cell_type": "code",
   "execution_count": 1,
   "metadata": {},
   "outputs": [],
   "source": [
    "import requests\n",
    "from decouple import config\n",
    "import pandas as pd\n",
    "import psycopg2\n",
    "from sqlalchemy import create_engine\n",
    "import datetime"
   ]
  },
  {
   "cell_type": "markdown",
   "metadata": {},
   "source": [
    "#### Leer el usuario, la contraseña y el token desde la variable de entorno"
   ]
  },
  {
   "cell_type": "code",
   "execution_count": 2,
   "metadata": {},
   "outputs": [],
   "source": [
    "my_host = config('DATABASE_HOST')\n",
    "port = config('DATABASE_PORT')\n",
    "password = config('DATABASE_PASSWORD')\n",
    "database_name = config('DATABASE_NAME')\n",
    "user = config('DATABASE_USER')\n",
    "token = config('TIINGO_TOKEN')"
   ]
  },
  {
   "cell_type": "markdown",
   "metadata": {},
   "source": [
    "#### Definir la clase TiingoData para manejar los datos de Tiingo"
   ]
  },
  {
   "cell_type": "code",
   "execution_count": 6,
   "metadata": {},
   "outputs": [],
   "source": [
    "class ListaSimbolos:\n",
    "    def __init__(self, simbolos):\n",
    "        self.simbolos = simbolos\n",
    "    \n",
    "    def __call__(self):\n",
    "        return self.simbolos\n",
    "\n",
    "class TiingoData:\n",
    "    # Inicializar atributos de la clase\n",
    "    def __init__(self, token):\n",
    "        self.token = token\n",
    "\n",
    "    def get_data(self, lista_simbolos):\n",
    "        simbolos = lista_simbolos()\n",
    "        precios = []\n",
    "\n",
    "        for simbolo in simbolos:\n",
    "            url = f\"https://api.tiingo.com/tiingo/daily/{simbolo}/prices\"\n",
    "            parametros = {\n",
    "                'startDate': '2023-01-01',\n",
    "                'endDate': datetime.date.today().isoformat(),\n",
    "                'format': 'json',\n",
    "            }\n",
    "            headers = {\n",
    "                'Authorization': f'Token {self.token}'  # Agregar el token enmascarado en los headers\n",
    "            }\n",
    "\n",
    "            try:\n",
    "                respuesta = requests.get(url, params=parametros, headers=headers)\n",
    "                respuesta.raise_for_status()  # Lanzar una excepción si la solicitud no es exitosa\n",
    "                datos = respuesta.json()\n",
    "                \n",
    "                # Verificar la estructura de los datos\n",
    "                if isinstance(datos, list) and all(isinstance(item, dict) for item in datos):\n",
    "                    for dato in datos:\n",
    "                        dato['ticker'] = simbolo  # Agregar el símbolo a cada fila porque si no, no lo trae\n",
    "                    precios.extend(datos)\n",
    "                else:\n",
    "                    print(f\"Los datos recibidos para el símbolo {simbolo} no están en el formato esperado.\")\n",
    "            except requests.exceptions.RequestException as e:\n",
    "                print(f\"Error al hacer la solicitud para el símbolo {simbolo}:\", e)\n",
    "\n",
    "        if precios:\n",
    "            # Convertir los datos en un DataFrame de pandas\n",
    "            df = pd.DataFrame(precios)\n",
    "            # Filtrar las columnas no deseadas\n",
    "            columnas_no_deseadas = ['adjClose', 'adjHigh', 'adjLow', 'adjOpen', 'adjVolume', 'divCash', 'splitFactor']\n",
    "            df = df.drop(columns=columnas_no_deseadas, errors='ignore')\n",
    "            # Filtrar y renombrar las columnas necesarias\n",
    "            columnas = {\n",
    "                'date': 'fecha',\n",
    "                'ticker': 'simbolo',\n",
    "                'open': 'apertura',\n",
    "                'high': 'maximo',\n",
    "                'low': 'minimo',\n",
    "                'close': 'cierre',\n",
    "                'volume': 'volumen',\n",
    "            }\n",
    "            df.rename(columns=columnas, inplace=True)\n",
    "            # Convertir la columna de fecha a tipo datetime\n",
    "            df['Fecha'] = pd.to_datetime(df['Fecha'])\n",
    "            # Llamar a la instancia de ListaSimbolos para imprimir los símbolos\n",
    "            print(lista_simbolos())\n",
    "            \n",
    "            return df\n",
    "        else:\n",
    "            return None"
   ]
  },
  {
   "cell_type": "markdown",
   "metadata": {},
   "source": [
    "#### Conectarse con Amazon Redshift y crear tabla (si no existe)"
   ]
  },
  {
   "cell_type": "code",
   "execution_count": 7,
   "metadata": {},
   "outputs": [],
   "source": [
    "class BaseDatosRedshift:\n",
    "    def __init__(self, host, port, database_name, user, password):\n",
    "        self.host = host\n",
    "        self.port = port\n",
    "        self.database_name = database_name\n",
    "        self.user = user\n",
    "        self.password = password\n",
    "        self.engine = None\n",
    "\n",
    "    def conectar(self):\n",
    "        try:\n",
    "            self.engine = create_engine(f'postgresql+psycopg2://{self.user}:{self.password}@{self.host}:{self.port}/{self.database_name}')\n",
    "            print(\"Conexión a la base de datos exitosa.\")\n",
    "        except Exception as e:\n",
    "            print(f\"Error al crear la conexión a la base de datos:\", e)\n",
    "\n",
    "    def crear_tabla_tiingo(self):\n",
    "        if self.conn is not None:\n",
    "            try:\n",
    "                cur = self.conn.cursor()\n",
    "                cur.execute(\"\"\"\n",
    "                CREATE TABLE IF NOT EXISTS hvzambrana_coderhouse.tiingo (\n",
    "                    simbolo VARCHAR(10) DISTKEY NOT NULL,\n",
    "                    fecha_ingesta TIMESTAMP DEFAULT CURRENT_TIMESTAMP, \n",
    "                    fecha TIMESTAMP SORTKEY NOT NULL,\n",
    "                    apertura FLOAT(15) NULL,\n",
    "                    maximo FLOAT(15) NULL,\n",
    "                    minimo FLOAT(15) NULL,\n",
    "                    cierre FLOAT(15) NULL,\n",
    "                    volumen INTEGER NULL\n",
    "                );\n",
    "                \"\"\")\n",
    "                self.conn.commit()\n",
    "                print(\"Tabla creada exitosamente.\")\n",
    "            except Exception as e:\n",
    "                print(f\"Error al crear la tabla:\", e)\n",
    "        else:\n",
    "            print(\"No hay conexión a la base de datos.\")\n",
    "\n",
    "    def cargar_datos(self, df):\n",
    "        if self.engine is not None:\n",
    "            try:\n",
    "                df.to_sql('tiingo', self.engine, schema='hvzambrana_coderhouse', if_exists='replace', index=False)\n",
    "                print(\"Datos cargados exitosamente.\")\n",
    "            except Exception as e:\n",
    "                print(f\"Error al cargar los datos en la tabla:\", e)\n",
    "        else:\n",
    "            print(\"No hay conexión a la base de datos.\")\n",
    "\n",
    "    def cerrar_conexion(self):\n",
    "        if self.conn is not None:\n",
    "            self.conn.close()\n",
    "            print(\"Conexión cerrada correctamente.\")\n",
    "        else:\n",
    "            print(\"No hay conexión para cerrar.\")"
   ]
  },
  {
   "cell_type": "markdown",
   "metadata": {},
   "source": [
    "#### Obtener datos de Tiingo y cargarlos en Redshift"
   ]
  },
  {
   "cell_type": "code",
   "execution_count": 8,
   "metadata": {},
   "outputs": [
    {
     "ename": "KeyError",
     "evalue": "'Fecha'",
     "output_type": "error",
     "traceback": [
      "\u001b[1;31m---------------------------------------------------------------------------\u001b[0m",
      "\u001b[1;31mKeyError\u001b[0m                                  Traceback (most recent call last)",
      "File \u001b[1;32mc:\\Users\\hvzam\\miniconda3\\lib\\site-packages\\pandas\\core\\indexes\\base.py:3802\u001b[0m, in \u001b[0;36mIndex.get_loc\u001b[1;34m(self, key, method, tolerance)\u001b[0m\n\u001b[0;32m   3801\u001b[0m \u001b[38;5;28;01mtry\u001b[39;00m:\n\u001b[1;32m-> 3802\u001b[0m     \u001b[38;5;28;01mreturn\u001b[39;00m \u001b[38;5;28;43mself\u001b[39;49m\u001b[38;5;241;43m.\u001b[39;49m\u001b[43m_engine\u001b[49m\u001b[38;5;241;43m.\u001b[39;49m\u001b[43mget_loc\u001b[49m\u001b[43m(\u001b[49m\u001b[43mcasted_key\u001b[49m\u001b[43m)\u001b[49m\n\u001b[0;32m   3803\u001b[0m \u001b[38;5;28;01mexcept\u001b[39;00m \u001b[38;5;167;01mKeyError\u001b[39;00m \u001b[38;5;28;01mas\u001b[39;00m err:\n",
      "File \u001b[1;32mc:\\Users\\hvzam\\miniconda3\\lib\\site-packages\\pandas\\_libs\\index.pyx:138\u001b[0m, in \u001b[0;36mpandas._libs.index.IndexEngine.get_loc\u001b[1;34m()\u001b[0m\n",
      "File \u001b[1;32mc:\\Users\\hvzam\\miniconda3\\lib\\site-packages\\pandas\\_libs\\index.pyx:165\u001b[0m, in \u001b[0;36mpandas._libs.index.IndexEngine.get_loc\u001b[1;34m()\u001b[0m\n",
      "File \u001b[1;32mpandas\\_libs\\hashtable_class_helper.pxi:5745\u001b[0m, in \u001b[0;36mpandas._libs.hashtable.PyObjectHashTable.get_item\u001b[1;34m()\u001b[0m\n",
      "File \u001b[1;32mpandas\\_libs\\hashtable_class_helper.pxi:5753\u001b[0m, in \u001b[0;36mpandas._libs.hashtable.PyObjectHashTable.get_item\u001b[1;34m()\u001b[0m\n",
      "\u001b[1;31mKeyError\u001b[0m: 'Fecha'",
      "\nThe above exception was the direct cause of the following exception:\n",
      "\u001b[1;31mKeyError\u001b[0m                                  Traceback (most recent call last)",
      "Cell \u001b[1;32mIn[8], line 9\u001b[0m\n\u001b[0;32m      6\u001b[0m tiingo_data \u001b[38;5;241m=\u001b[39m TiingoData(token)\n\u001b[0;32m      8\u001b[0m \u001b[38;5;66;03m# Obtener y mostrar los datos de Tiingo\u001b[39;00m\n\u001b[1;32m----> 9\u001b[0m datos_tiingo_df \u001b[38;5;241m=\u001b[39m \u001b[43mtiingo_data\u001b[49m\u001b[38;5;241;43m.\u001b[39;49m\u001b[43mget_data\u001b[49m\u001b[43m(\u001b[49m\u001b[43mlista_simbolos\u001b[49m\u001b[43m)\u001b[49m\n\u001b[0;32m     11\u001b[0m \u001b[38;5;66;03m# Crear instancia de la clase BaseDatosRedshift con los datos de conexión\u001b[39;00m\n\u001b[0;32m     12\u001b[0m bd_redshift \u001b[38;5;241m=\u001b[39m BaseDatosRedshift(my_host, port, database_name, user, password)\n",
      "Cell \u001b[1;32mIn[6], line 61\u001b[0m, in \u001b[0;36mTiingoData.get_data\u001b[1;34m(self, lista_simbolos)\u001b[0m\n\u001b[0;32m     59\u001b[0m df\u001b[38;5;241m.\u001b[39mrename(columns\u001b[38;5;241m=\u001b[39mcolumnas, inplace\u001b[38;5;241m=\u001b[39m\u001b[38;5;28;01mTrue\u001b[39;00m)\n\u001b[0;32m     60\u001b[0m \u001b[38;5;66;03m# Convertir la columna de fecha a tipo datetime\u001b[39;00m\n\u001b[1;32m---> 61\u001b[0m df[\u001b[38;5;124m'\u001b[39m\u001b[38;5;124mFecha\u001b[39m\u001b[38;5;124m'\u001b[39m] \u001b[38;5;241m=\u001b[39m pd\u001b[38;5;241m.\u001b[39mto_datetime(\u001b[43mdf\u001b[49m\u001b[43m[\u001b[49m\u001b[38;5;124;43m'\u001b[39;49m\u001b[38;5;124;43mFecha\u001b[39;49m\u001b[38;5;124;43m'\u001b[39;49m\u001b[43m]\u001b[49m)\n\u001b[0;32m     62\u001b[0m \u001b[38;5;66;03m# Llamar a la instancia de ListaSimbolos para imprimir los símbolos\u001b[39;00m\n\u001b[0;32m     63\u001b[0m \u001b[38;5;28mprint\u001b[39m(lista_simbolos())\n",
      "File \u001b[1;32mc:\\Users\\hvzam\\miniconda3\\lib\\site-packages\\pandas\\core\\frame.py:3807\u001b[0m, in \u001b[0;36mDataFrame.__getitem__\u001b[1;34m(self, key)\u001b[0m\n\u001b[0;32m   3805\u001b[0m \u001b[38;5;28;01mif\u001b[39;00m \u001b[38;5;28mself\u001b[39m\u001b[38;5;241m.\u001b[39mcolumns\u001b[38;5;241m.\u001b[39mnlevels \u001b[38;5;241m>\u001b[39m \u001b[38;5;241m1\u001b[39m:\n\u001b[0;32m   3806\u001b[0m     \u001b[38;5;28;01mreturn\u001b[39;00m \u001b[38;5;28mself\u001b[39m\u001b[38;5;241m.\u001b[39m_getitem_multilevel(key)\n\u001b[1;32m-> 3807\u001b[0m indexer \u001b[38;5;241m=\u001b[39m \u001b[38;5;28;43mself\u001b[39;49m\u001b[38;5;241;43m.\u001b[39;49m\u001b[43mcolumns\u001b[49m\u001b[38;5;241;43m.\u001b[39;49m\u001b[43mget_loc\u001b[49m\u001b[43m(\u001b[49m\u001b[43mkey\u001b[49m\u001b[43m)\u001b[49m\n\u001b[0;32m   3808\u001b[0m \u001b[38;5;28;01mif\u001b[39;00m is_integer(indexer):\n\u001b[0;32m   3809\u001b[0m     indexer \u001b[38;5;241m=\u001b[39m [indexer]\n",
      "File \u001b[1;32mc:\\Users\\hvzam\\miniconda3\\lib\\site-packages\\pandas\\core\\indexes\\base.py:3804\u001b[0m, in \u001b[0;36mIndex.get_loc\u001b[1;34m(self, key, method, tolerance)\u001b[0m\n\u001b[0;32m   3802\u001b[0m     \u001b[38;5;28;01mreturn\u001b[39;00m \u001b[38;5;28mself\u001b[39m\u001b[38;5;241m.\u001b[39m_engine\u001b[38;5;241m.\u001b[39mget_loc(casted_key)\n\u001b[0;32m   3803\u001b[0m \u001b[38;5;28;01mexcept\u001b[39;00m \u001b[38;5;167;01mKeyError\u001b[39;00m \u001b[38;5;28;01mas\u001b[39;00m err:\n\u001b[1;32m-> 3804\u001b[0m     \u001b[38;5;28;01mraise\u001b[39;00m \u001b[38;5;167;01mKeyError\u001b[39;00m(key) \u001b[38;5;28;01mfrom\u001b[39;00m \u001b[38;5;21;01merr\u001b[39;00m\n\u001b[0;32m   3805\u001b[0m \u001b[38;5;28;01mexcept\u001b[39;00m \u001b[38;5;167;01mTypeError\u001b[39;00m:\n\u001b[0;32m   3806\u001b[0m     \u001b[38;5;66;03m# If we have a listlike key, _check_indexing_error will raise\u001b[39;00m\n\u001b[0;32m   3807\u001b[0m     \u001b[38;5;66;03m#  InvalidIndexError. Otherwise we fall through and re-raise\u001b[39;00m\n\u001b[0;32m   3808\u001b[0m     \u001b[38;5;66;03m#  the TypeError.\u001b[39;00m\n\u001b[0;32m   3809\u001b[0m     \u001b[38;5;28mself\u001b[39m\u001b[38;5;241m.\u001b[39m_check_indexing_error(key)\n",
      "\u001b[1;31mKeyError\u001b[0m: 'Fecha'"
     ]
    }
   ],
   "source": [
    "# Lista de símbolos a consultar\n",
    "simbolos = ['AMZN', 'AAPL', 'DIS', 'GOOGL', 'JNJ', 'MCD', 'MELI', 'MSFT', 'NVDA', 'TSLA']\n",
    "lista_simbolos = ListaSimbolos(simbolos)\n",
    "\n",
    "# Crear instancia de TiingoData\n",
    "tiingo_data = TiingoData(token)\n",
    "\n",
    "# Obtener y mostrar los datos de Tiingo\n",
    "datos_tiingo_df = tiingo_data.get_data(lista_simbolos)\n",
    "\n",
    "# Crear instancia de la clase BaseDatosRedshift con los datos de conexión\n",
    "bd_redshift = BaseDatosRedshift(my_host, port, database_name, user, password)\n",
    "\n",
    "# Conectar con la base de datos\n",
    "bd_redshift.conectar()\n",
    "\n",
    "# Crear tabla en la base de datos\n",
    "bd_redshift.crear_tabla_tiingo()\n",
    "\n",
    "# Cargar los datos en Redshift\n",
    "bd_redshift.cargar_datos(datos_tiingo_df)\n",
    "\n",
    "# Cerrar conexión\n",
    "bd_redshift.cerrar_conexion()"
   ]
  }
 ],
 "metadata": {
  "kernelspec": {
   "display_name": "Python 3",
   "language": "python",
   "name": "python3"
  },
  "language_info": {
   "codemirror_mode": {
    "name": "ipython",
    "version": 3
   },
   "file_extension": ".py",
   "mimetype": "text/x-python",
   "name": "python",
   "nbconvert_exporter": "python",
   "pygments_lexer": "ipython3",
   "version": "3.10.10"
  },
  "orig_nbformat": 4
 },
 "nbformat": 4,
 "nbformat_minor": 2
}
