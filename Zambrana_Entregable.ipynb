{
 "cells": [
  {
   "attachments": {},
   "cell_type": "markdown",
   "metadata": {},
   "source": [
    "## API AlphaVantage - Intradiario"
   ]
  },
  {
   "cell_type": "markdown",
   "metadata": {},
   "source": [
    "#### Importar las librerías necesarias"
   ]
  },
  {
   "cell_type": "code",
   "execution_count": 6,
   "metadata": {},
   "outputs": [],
   "source": [
    "import requests\n",
    "from decouple import config\n",
    "import json\n",
    "import pandas as pd\n",
    "import psycopg2"
   ]
  },
  {
   "cell_type": "markdown",
   "metadata": {},
   "source": [
    "#### Leer la contraseña y el token desde la variable de entorno"
   ]
  },
  {
   "cell_type": "code",
   "execution_count": 7,
   "metadata": {},
   "outputs": [],
   "source": [
    "my_host = config('DATABASE_HOST')\n",
    "port = config('DATABASE_PORT')\n",
    "password = config('DATABASE_PASSWORD')\n",
    "database_name = config('DATABASE_NAME')\n",
    "user = config('DATABASE_USER')\n",
    "token = config('ALPHAVANTAGE_TOKEN')"
   ]
  },
  {
   "cell_type": "markdown",
   "metadata": {},
   "source": [
    "#### Definir la función para obtener datos de AlphaVantage"
   ]
  },
  {
   "cell_type": "code",
   "execution_count": 8,
   "metadata": {},
   "outputs": [
    {
     "name": "stdout",
     "output_type": "stream",
     "text": [
      "                 Fecha  Apertura    Maximo    Minimo    Cierre   Volumen  \\\n",
      "2024-03-28  2024-03-28  180.1700  181.7000  179.2600  180.3800  38051588   \n",
      "2024-03-27  2024-03-27  179.8800  180.0000  177.3099  179.8300  33272551   \n",
      "2024-03-26  2024-03-26  180.1500  180.4500  177.9500  178.3000  29658982   \n",
      "2024-03-25  2024-03-25  178.0100  180.9900  177.2400  179.7100  29815464   \n",
      "2024-03-22  2024-03-22  177.7520  179.2550  176.7500  178.8700  27995378   \n",
      "...                ...       ...       ...       ...       ...       ...   \n",
      "2023-11-09  2023-11-09   31.5709   31.8700   30.9550   31.2600   9249145   \n",
      "2023-11-08  2023-11-08   30.7200   31.6175   30.6500   31.3700   7882682   \n",
      "2023-11-07  2023-11-07   30.9000   31.3600   30.6500   30.9500  13478954   \n",
      "2023-11-06  2023-11-06   31.0500   31.1400   30.3200   30.9200   9929900   \n",
      "2023-11-03  2023-11-03   30.9500   31.3600   30.5050   30.9400  14262650   \n",
      "\n",
      "           Symbol  \n",
      "2024-03-28   AMZN  \n",
      "2024-03-27   AMZN  \n",
      "2024-03-26   AMZN  \n",
      "2024-03-25   AMZN  \n",
      "2024-03-22   AMZN  \n",
      "...           ...  \n",
      "2023-11-09   PINS  \n",
      "2023-11-08   PINS  \n",
      "2023-11-07   PINS  \n",
      "2023-11-06   PINS  \n",
      "2023-11-03   PINS  \n",
      "\n",
      "[500 rows x 7 columns]\n"
     ]
    }
   ],
   "source": [
    "def obtener_datos_acciones(symbols, token):\n",
    "    dataframes = []\n",
    "    for symbol in symbols:\n",
    "        url = f'https://www.alphavantage.co/query?function=TIME_SERIES_DAILY&symbol={symbol}&apikey={token}'\n",
    "        response = requests.get(url)\n",
    "        if response.status_code == 200:\n",
    "            data = response.json()\n",
    "            if 'Time Series (Daily)' in data:\n",
    "                time_series_data = data['Time Series (Daily)']\n",
    "                df = pd.DataFrame(time_series_data).T\n",
    "                df['Fecha'] = df.index\n",
    "                df['symbol'] = symbol\n",
    "                df = df[['Fecha', '1. open', '2. high', '3. low', '4. close', '5. volume', 'symbol']]\n",
    "                df.columns = ['Fecha', 'Apertura', 'Maximo', 'Minimo', 'Cierre', 'Volumen', 'Symbol']\n",
    "                dataframes.append(df)\n",
    "            else:\n",
    "                print(f\"No se encontraron datos para {symbol}.\")\n",
    "        else:\n",
    "            print(f\"No se pudo obtener datos para {symbol}. Código de estado: {response.status_code}\")\n",
    "\n",
    "    if dataframes:\n",
    "        return pd.concat(dataframes)\n",
    "    else:\n",
    "        return None\n",
    "\n",
    "# Cargar token de Alphavantage desde el archivo .env\n",
    "token = config('ALPHAVANTAGE_TOKEN')\n",
    "\n",
    "# Símbolos de las acciones que deseas obtener\n",
    "symbols = ['AMZN', 'MELI', 'AAPL', 'GOOGL', 'PINS']\n",
    "\n",
    "# Obtener datos de Alphavantage y mostrar en un DataFrame\n",
    "df = obtener_datos_acciones(symbols, token)\n",
    "if df is not None:\n",
    "    print(df)\n",
    "else:\n",
    "    print(\"No se pudieron obtener datos para ninguna acción.\")"
   ]
  },
  {
   "cell_type": "markdown",
   "metadata": {},
   "source": [
    "#### Conectarse con Amazon Redshift y creación de tabla (si no existe)"
   ]
  },
  {
   "cell_type": "code",
   "execution_count": 9,
   "metadata": {},
   "outputs": [
    {
     "name": "stdout",
     "output_type": "stream",
     "text": [
      "Conexión a la base de datos exitosa\n",
      "Tabla creada exitosamente\n",
      "Conexión cerrada correctamente\n"
     ]
    }
   ],
   "source": [
    "\n",
    "#Conectar a la base de datos\n",
    "try:\n",
    "    conn = psycopg2.connect(\n",
    "        host=my_host, \n",
    "        port=port, \n",
    "        database=database_name, \n",
    "        user=user, \n",
    "        password=password\n",
    "    )\n",
    "    print(\"Conexión a la base de datos exitosa\")\n",
    "\n",
    "    # Crear tabla\n",
    "    try:\n",
    "        cur = conn.cursor()\n",
    "        cur.execute(\"\"\"\n",
    "        CREATE TABLE IF NOT EXISTS hvzambrana_coderhouse.alphavantage (\n",
    "            simbolo VARCHAR(10) DISTKEY NOT NULL,\n",
    "            fecha TIMESTAMP SORTKEY NOT NULL,\n",
    "            apertura FLOAT(15) NULL,\n",
    "            maximo FLOAT(15) NULL,\n",
    "            minimo FLOAT(15) NULL,\n",
    "            cierre FLOAT(15) NULL,\n",
    "            volumen FLOAT(15) NULL\n",
    "        );\n",
    "        \"\"\")\n",
    "        conn.commit()\n",
    "        print(\"Tabla creada exitosamente\")\n",
    "    except Exception as e:\n",
    "            print(\"Error al crear la tabla\")\n",
    "            print(e)\n",
    "\n",
    "except Exception as e:\n",
    "    print(\"Error al crear la conexión a la base de datos\")\n",
    "    print(e)\n",
    "finally:\n",
    "    if conn is not None:\n",
    "        conn.close()\n",
    "        print(\"Conexión cerrada correctamente\")"
   ]
  }
 ],
 "metadata": {
  "kernelspec": {
   "display_name": "Python 3",
   "language": "python",
   "name": "python3"
  },
  "language_info": {
   "codemirror_mode": {
    "name": "ipython",
    "version": 3
   },
   "file_extension": ".py",
   "mimetype": "text/x-python",
   "name": "python",
   "nbconvert_exporter": "python",
   "pygments_lexer": "ipython3",
   "version": "3.10.10"
  },
  "orig_nbformat": 4
 },
 "nbformat": 4,
 "nbformat_minor": 2
}
