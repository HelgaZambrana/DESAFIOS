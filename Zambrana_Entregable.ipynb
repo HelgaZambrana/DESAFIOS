{
 "cells": [
  {
   "attachments": {},
   "cell_type": "markdown",
   "metadata": {},
   "source": [
    "## API AlphaVantage - Diario"
   ]
  },
  {
   "cell_type": "markdown",
   "metadata": {},
   "source": [
    "#### Importar las librerías necesarias"
   ]
  },
  {
   "cell_type": "code",
   "execution_count": 25,
   "metadata": {},
   "outputs": [],
   "source": [
    "import requests\n",
    "from decouple import config\n",
    "import json\n",
    "import pandas as pd\n",
    "import psycopg2"
   ]
  },
  {
   "cell_type": "markdown",
   "metadata": {},
   "source": [
    "#### Leer la contraseña y el token desde la variable de entorno"
   ]
  },
  {
   "cell_type": "code",
   "execution_count": 26,
   "metadata": {},
   "outputs": [],
   "source": [
    "my_host = config('DATABASE_HOST')\n",
    "port = config('DATABASE_PORT')\n",
    "password = config('DATABASE_PASSWORD')\n",
    "database_name = config('DATABASE_NAME')\n",
    "user = config('DATABASE_USER')\n",
    "token = config('ALPHAVANTAGE_TOKEN')"
   ]
  },
  {
   "cell_type": "markdown",
   "metadata": {},
   "source": [
    "#### Definir la función para obtener datos de AlphaVantage y mostrar un dataframe"
   ]
  },
  {
   "cell_type": "code",
   "execution_count": 30,
   "metadata": {},
   "outputs": [
    {
     "name": "stdout",
     "output_type": "stream",
     "text": [
      "No se encontraron datos para AMZN.\n",
      "No se encontraron datos para MELI.\n",
      "No se encontraron datos para AAPL.\n",
      "No se encontraron datos para GOOGL.\n",
      "No se encontraron datos para PINS.\n",
      "No se pudieron obtener datos para ninguna acción.\n"
     ]
    }
   ],
   "source": [
    "def obtener_datos_acciones(symbols, token):\n",
    "    dataframes = []\n",
    "    for symbol in symbols:\n",
    "        url = f'https://www.alphavantage.co/query?function=TIME_SERIES_DAILY&symbol={symbol}&apikey={token}' \n",
    "        response = requests.get(url)\n",
    "        if response.status_code == 200:\n",
    "            data = response.json()\n",
    "            if 'Time Series (Daily)' in data:\n",
    "                time_series_data = data['Time Series (Daily)']\n",
    "                df = pd.DataFrame(time_series_data).T\n",
    "                df['Fecha'] = df.index\n",
    "                df['symbol'] = symbol\n",
    "                df = df[['Fecha', '1. open', '2. high', '3. low', '4. close', '5. volume', 'symbol']]\n",
    "                df.columns = ['Fecha', 'Apertura', 'Maximo', 'Minimo', 'Cierre', 'Volumen', 'Símbolo']\n",
    "                dataframes.append(df)\n",
    "            else:\n",
    "                print(f\"No se encontraron datos para {symbol}.\")\n",
    "        else:\n",
    "            print(f\"No se pudo obtener datos para {symbol}. Código de estado: {response.status_code}\")\n",
    "\n",
    "    if dataframes:\n",
    "        return pd.concat(dataframes)\n",
    "    else:\n",
    "        return None\n",
    "\n",
    "# Símbolos de las acciones a consultar\n",
    "symbols = ['AMZN', 'MELI', 'AAPL', 'GOOGL', 'PINS']\n",
    "\n",
    "# Obtener datos de Alphavantage y mostrarlos en un DataFrame\n",
    "df = obtener_datos_acciones(symbols, token)\n",
    "if df is not None:\n",
    "    print(df)\n",
    "else:\n",
    "    print(\"No se pudieron obtener datos para ninguna acción.\")"
   ]
  },
  {
   "cell_type": "markdown",
   "metadata": {},
   "source": [
    "#### Conectarse con Amazon Redshift y crear tabla (si no existe)"
   ]
  },
  {
   "cell_type": "code",
   "execution_count": 28,
   "metadata": {},
   "outputs": [
    {
     "name": "stdout",
     "output_type": "stream",
     "text": [
      "Conexión a la base de datos exitosa\n",
      "Tabla creada exitosamente\n",
      "Conexión cerrada correctamente\n"
     ]
    }
   ],
   "source": [
    "\n",
    "#Conectar a la base de datos\n",
    "try:\n",
    "    conn = psycopg2.connect(\n",
    "        host=my_host, \n",
    "        port=port, \n",
    "        database=database_name, \n",
    "        user=user, \n",
    "        password=password\n",
    "    )\n",
    "    print(\"Conexión a la base de datos exitosa\")\n",
    "\n",
    "    # Crear tabla\n",
    "    try:\n",
    "        cur = conn.cursor()\n",
    "        cur.execute(\"\"\"\n",
    "        CREATE TABLE IF NOT EXISTS hvzambrana_coderhouse.alphavantage (\n",
    "            simbolo VARCHAR(10) DISTKEY NOT NULL,\n",
    "            fecha TIMESTAMP SORTKEY NOT NULL,\n",
    "            apertura FLOAT(15) NULL,\n",
    "            maximo FLOAT(15) NULL,\n",
    "            minimo FLOAT(15) NULL,\n",
    "            cierre FLOAT(15) NULL,\n",
    "            volumen FLOAT(15) NULL\n",
    "        );\n",
    "        \"\"\")\n",
    "        conn.commit()\n",
    "        print(\"Tabla creada exitosamente\")\n",
    "    except Exception as e:\n",
    "            print(\"Error al crear la tabla\")\n",
    "            print(e)\n",
    "\n",
    "except Exception as e:\n",
    "    print(\"Error al crear la conexión a la base de datos\")\n",
    "    print(e)\n",
    "finally:\n",
    "    if conn is not None:\n",
    "        conn.close()\n",
    "        print(\"Conexión cerrada correctamente\")"
   ]
  }
 ],
 "metadata": {
  "kernelspec": {
   "display_name": "Python 3",
   "language": "python",
   "name": "python3"
  },
  "language_info": {
   "codemirror_mode": {
    "name": "ipython",
    "version": 3
   },
   "file_extension": ".py",
   "mimetype": "text/x-python",
   "name": "python",
   "nbconvert_exporter": "python",
   "pygments_lexer": "ipython3",
   "version": "3.10.10"
  },
  "orig_nbformat": 4
 },
 "nbformat": 4,
 "nbformat_minor": 2
}
