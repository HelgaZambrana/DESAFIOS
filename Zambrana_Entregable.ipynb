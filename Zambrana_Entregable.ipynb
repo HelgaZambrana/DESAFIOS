{
 "cells": [
  {
   "attachments": {},
   "cell_type": "markdown",
   "metadata": {},
   "source": [
    "## API AlphaVantage - Intradiario"
   ]
  },
  {
   "cell_type": "markdown",
   "metadata": {},
   "source": [
    "#### Importar las librerías necesarias"
   ]
  },
  {
   "cell_type": "code",
   "execution_count": 26,
   "metadata": {},
   "outputs": [],
   "source": [
    "import requests\n",
    "from decouple import config\n",
    "import json\n",
    "import pandas as pd\n",
    "import psycopg2"
   ]
  },
  {
   "cell_type": "markdown",
   "metadata": {},
   "source": [
    "#### Leer la contraseña y el token desde la variable de entorno"
   ]
  },
  {
   "cell_type": "code",
   "execution_count": 27,
   "metadata": {},
   "outputs": [],
   "source": [
    "my_host = config('DATABASE_HOST')\n",
    "port = config('DATABASE_PORT')\n",
    "password = config('DATABASE_PASSWORD')\n",
    "database_name = config('DATABASE_NAME')\n",
    "user = config('DATABASE_USER')\n",
    "token = config('ALPHAVANTAGE_TOKEN')"
   ]
  },
  {
   "cell_type": "markdown",
   "metadata": {},
   "source": [
    "#### Definir la función para obtener datos de AlphaVantage"
   ]
  },
  {
   "cell_type": "code",
   "execution_count": 29,
   "metadata": {},
   "outputs": [],
   "source": [
    "def getIntra(symbol, interval, size): \n",
    "    function = 'TIME_SERIES_INTRADAY'\n",
    "    url = 'https://www.alphavantage.co/query'\n",
    "    parametros = {\n",
    "        'function': function, \n",
    "        'symbol': symbol, \n",
    "        'interval': interval, \n",
    "        'outputsize': size, \n",
    "        'datatype': json, \n",
    "        'apikey': token\n",
    "    }\n",
    "    \n",
    "    r = requests.get(url, params=parametros)\n",
    "    data = r.json() # Obtener el JSON\n",
    "    series_key = f\"Time Series ({interval})\"\n",
    "    if series_key in data:\n",
    "        dataDF = pd.DataFrame.from_dict(data[series_key], orient='index') # Convertir a DataFrame\n",
    "        dataDF = dataDF.astype(float)\n",
    "        dataDF.index.name = 'Fecha'\n",
    "        dataDF.columns = ['Apertura', 'Maximo', 'Minimo', 'Cierre', 'Volumen']\n",
    "        dataDF = dataDF.sort_index(ascending=True)\n",
    "        dataDF.index = pd.to_datetime(dataDF.index)\n",
    "        return dataDF\n",
    "    else:\n",
    "        return pd.DataFrame()\n",
    "\n",
    "acciones = ['AMZN', 'MELI', 'AAPL', 'GOOGL', 'MSFT'] # Lista de símbolos de acciones que se van a consultar\n"
   ]
  },
  {
   "cell_type": "markdown",
   "metadata": {},
   "source": [
    "#### Crear e imprimir el Dataframe"
   ]
  },
  {
   "cell_type": "code",
   "execution_count": 30,
   "metadata": {},
   "outputs": [
    {
     "name": "stdout",
     "output_type": "stream",
     "text": [
      "Empty DataFrame\n",
      "Columns: []\n",
      "Index: []\n"
     ]
    }
   ],
   "source": [
    "combined_data = pd.DataFrame() # Inicializar un DataFrame vacío para combinar los datos\n",
    "\n",
    "# Obtener y combinar los datos de las acciones en el DataFrame\n",
    "for accion in acciones:\n",
    "    dataDF = getIntra(symbol=accion, interval='5min', size='compact')\n",
    "    if not dataDF.empty:\n",
    "        dataDF['Simbolo'] = accion # Agregar una columna para el símbolo de la acción\n",
    "        combined_data = pd.concat([combined_data, dataDF])\n",
    "\n",
    "combined_data = combined_data.round(6) # Redondear los valores a seis decimales\n",
    "\n",
    "print(combined_data) # Imprimir el DataFrame combinado\n"
   ]
  },
  {
   "cell_type": "markdown",
   "metadata": {},
   "source": [
    "#### Conectarse con Amazon Redshift y creación de tabla (si no existe)"
   ]
  },
  {
   "cell_type": "code",
   "execution_count": 20,
   "metadata": {},
   "outputs": [
    {
     "name": "stdout",
     "output_type": "stream",
     "text": [
      "Conexión a la base de datos exitosa\n",
      "Tabla creada exitosamente\n",
      "Conexión cerrada correctamente\n"
     ]
    }
   ],
   "source": [
    "\n",
    "#Conectar a la base de datos\n",
    "try:\n",
    "    conn = psycopg2.connect(\n",
    "        host=my_host, \n",
    "        port=port, \n",
    "        database=database_name, \n",
    "        user=user, \n",
    "        password=password\n",
    "    )\n",
    "    print(\"Conexión a la base de datos exitosa\")\n",
    "\n",
    "    # Crear tabla\n",
    "    try:\n",
    "        cur = conn.cursor()\n",
    "        cur.execute(\"\"\"\n",
    "        CREATE TABLE IF NOT EXISTS hvzambrana_coderhouse.alphavantage (\n",
    "            simbolo VARCHAR(10) DISTKEY NOT NULL,\n",
    "            fecha TIMESTAMP SORTKEY NOT NULL,\n",
    "            apertura FLOAT(15) NULL,\n",
    "            maximo FLOAT(15) NULL,\n",
    "            minimo FLOAT(15) NULL,\n",
    "            cierre FLOAT(15) NULL,\n",
    "            volumen FLOAT(15) NULL\n",
    "        );\n",
    "        \"\"\")\n",
    "        conn.commit()\n",
    "        print(\"Tabla creada exitosamente\")\n",
    "    except Exception as e:\n",
    "            print(\"Error al crear la tabla\")\n",
    "            print(e)\n",
    "\n",
    "except Exception as e:\n",
    "    print(\"Error al crear la conexión a la base de datos\")\n",
    "    print(e)\n",
    "finally:\n",
    "    if conn is not None:\n",
    "        conn.close()\n",
    "        print(\"Conexión cerrada correctamente\")"
   ]
  }
 ],
 "metadata": {
  "kernelspec": {
   "display_name": "Python 3",
   "language": "python",
   "name": "python3"
  },
  "language_info": {
   "codemirror_mode": {
    "name": "ipython",
    "version": 3
   },
   "file_extension": ".py",
   "mimetype": "text/x-python",
   "name": "python",
   "nbconvert_exporter": "python",
   "pygments_lexer": "ipython3",
   "version": "3.10.10"
  },
  "orig_nbformat": 4
 },
 "nbformat": 4,
 "nbformat_minor": 2
}
