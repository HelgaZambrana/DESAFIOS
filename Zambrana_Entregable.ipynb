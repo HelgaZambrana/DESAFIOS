{
 "cells": [
  {
   "attachments": {},
   "cell_type": "markdown",
   "metadata": {},
   "source": [
    "## API Tiingo - Diario"
   ]
  },
  {
   "cell_type": "markdown",
   "metadata": {},
   "source": [
    "#### Importar las librerías necesarias"
   ]
  },
  {
   "cell_type": "code",
   "execution_count": 1,
   "metadata": {},
   "outputs": [],
   "source": [
    "import requests\n",
    "from decouple import config\n",
    "import pandas as pd\n",
    "import psycopg2\n",
    "import datetime"
   ]
  },
  {
   "cell_type": "markdown",
   "metadata": {},
   "source": [
    "#### Leer el usuario, la contraseña y el token desde la variable de entorno"
   ]
  },
  {
   "cell_type": "code",
   "execution_count": 2,
   "metadata": {},
   "outputs": [],
   "source": [
    "my_host = config('DATABASE_HOST')\n",
    "port = config('DATABASE_PORT')\n",
    "password = config('DATABASE_PASSWORD')\n",
    "database_name = config('DATABASE_NAME')\n",
    "user = config('DATABASE_USER')\n",
    "token = config('TIINGO_TOKEN')"
   ]
  },
  {
   "cell_type": "markdown",
   "metadata": {},
   "source": [
    "#### Obtener datos de Tiingo y mostrarlos en un dataframe"
   ]
  },
  {
   "cell_type": "code",
   "execution_count": 22,
   "metadata": {},
   "outputs": [
    {
     "name": "stdout",
     "output_type": "stream",
     "text": [
      "Error al hacer la solicitud para el símbolo AMZN: 429 Client Error: Too Many Requests for url: https://api.tiingo.com/tiingo/daily/AMZN/prices?startDate=2023-01-01&endDate=2024-03-29&format=json\n",
      "Error al hacer la solicitud para el símbolo AAPL: 429 Client Error: Too Many Requests for url: https://api.tiingo.com/tiingo/daily/AAPL/prices?startDate=2023-01-01&endDate=2024-03-29&format=json\n",
      "Error al hacer la solicitud para el símbolo GOOGL: 429 Client Error: Too Many Requests for url: https://api.tiingo.com/tiingo/daily/GOOGL/prices?startDate=2023-01-01&endDate=2024-03-29&format=json\n",
      "Error al hacer la solicitud para el símbolo MSFT: 429 Client Error: Too Many Requests for url: https://api.tiingo.com/tiingo/daily/MSFT/prices?startDate=2023-01-01&endDate=2024-03-29&format=json\n",
      "Error al hacer la solicitud para el símbolo TSLA: 429 Client Error: Too Many Requests for url: https://api.tiingo.com/tiingo/daily/TSLA/prices?startDate=2023-01-01&endDate=2024-03-29&format=json\n"
     ]
    }
   ],
   "source": [
    "class ListaSimbolos:\n",
    "    def __init__(self, simbolos):\n",
    "        self.simbolos = simbolos\n",
    "    \n",
    "    def __call__(self):\n",
    "        return self.simbolos\n",
    "\n",
    "class TiingoData:\n",
    "    # Inicializar atributos de la clase\n",
    "    def __init__(self, token):\n",
    "        self.token = token\n",
    "\n",
    "    def __call__(self, lista_simbolos):\n",
    "        simbolos = lista_simbolos()\n",
    "        precios = []\n",
    "\n",
    "        for simbolo in simbolos:\n",
    "            url = f\"https://api.tiingo.com/tiingo/daily/{simbolo}/prices\"\n",
    "            parametros = {\n",
    "                'startDate': '2023-01-01',\n",
    "                'endDate': datetime.date.today().isoformat(),\n",
    "                'format': 'json',\n",
    "            }\n",
    "            headers = {\n",
    "                'Authorization': f'Token {self.token}'  # Agregar el token enmascarado en los headers\n",
    "            }\n",
    "\n",
    "            try:\n",
    "                respuesta = requests.get(url, params=parametros, headers=headers)\n",
    "                respuesta.raise_for_status()  # Lanzar una excepción si la solicitud no es exitosa\n",
    "                datos = respuesta.json()\n",
    "                \n",
    "                # Verificar la estructura de los datos\n",
    "                if isinstance(datos, list) and all(isinstance(item, dict) for item in datos):\n",
    "                    for dato in datos:\n",
    "                        dato['ticker'] = simbolo  # Agregar el símbolo a cada fila porque si no, no lo trae\n",
    "                    precios.extend(datos)\n",
    "                else:\n",
    "                    print(f\"Los datos recibidos para el símbolo {simbolo} no están en el formato esperado.\")\n",
    "            except requests.exceptions.RequestException as e:\n",
    "                print(f\"Error al hacer la solicitud para el símbolo {simbolo}:\", e)\n",
    "\n",
    "        if precios:\n",
    "            # Convertir los datos en un DataFrame de pandas\n",
    "            df = pd.DataFrame(precios)\n",
    "            \n",
    "            # Filtrar las columnas no deseadas\n",
    "            columnas_no_deseadas = ['adjClose', 'adjHigh', 'adjLow', 'adjOpen', 'adjVolume', 'divCash', 'splitFactor']\n",
    "            df = df.drop(columns=columnas_no_deseadas, errors='ignore')\n",
    "            \n",
    "            # Filtrar y renombrar las columnas necesarias\n",
    "            columnas = {\n",
    "                'date': 'Fecha',\n",
    "                'ticker': 'Símbolo',\n",
    "                'open': 'Apertura',\n",
    "                'high': 'Máximo',\n",
    "                'low': 'Mínimo',\n",
    "                'close': 'Cierre',\n",
    "                'volume': 'Volumen',\n",
    "            }\n",
    "            df.rename(columns=columnas, inplace=True)\n",
    "            \n",
    "            # Convertir la columna de fecha a tipo datetime\n",
    "            df['Fecha'] = pd.to_datetime(df['Fecha'])\n",
    "            \n",
    "            # Llamar a la instancia de ListaSimbolos para imprimir los símbolos\n",
    "            print(lista_simbolos())\n",
    "            \n",
    "            return df\n",
    "        else:\n",
    "            return None\n",
    "\n",
    "\n",
    "# Lista de símbolos a consultar\n",
    "simbolos = ListaSimbolos(['AMZN', 'AAPL', 'GOOGL', 'MSFT', 'TSLA'])\n",
    "\n",
    "\n",
    "# Crear instancia de TiingoData\n",
    "tiingo_data = TiingoData(token)\n",
    "\n",
    "\n",
    "# Obtener y mostrar los datos\n",
    "datos_tiingo_df = tiingo_data(simbolos)\n",
    "if datos_tiingo_df is not None:\n",
    "    print(datos_tiingo_df)"
   ]
  },
  {
   "cell_type": "markdown",
   "metadata": {},
   "source": [
    "#### Conectarse con Amazon Redshift y crear tabla (si no existe)"
   ]
  },
  {
   "cell_type": "code",
   "execution_count": 21,
   "metadata": {},
   "outputs": [
    {
     "name": "stdout",
     "output_type": "stream",
     "text": [
      "Conexión a la base de datos exitosa.\n",
      "Tabla creada exitosamente.\n",
      "Conexión cerrada correctamente.\n"
     ]
    }
   ],
   "source": [
    "class BaseDatosTiingo:\n",
    "    def __init__(self, host, port, database_name, user, password):\n",
    "        self.host = host\n",
    "        self.port = port\n",
    "        self.database_name = database_name\n",
    "        self.user = user\n",
    "        self.password = password\n",
    "        self.conn = None\n",
    "\n",
    "    def conectar(self):\n",
    "        try:\n",
    "            self.conn = psycopg2.connect(\n",
    "                host=self.host, \n",
    "                port=self.port, \n",
    "                database=self.database_name, \n",
    "                user=self.user, \n",
    "                password=self.password\n",
    "            )\n",
    "            print(\"Conexión a la base de datos exitosa.\")\n",
    "        except Exception as e:\n",
    "            print(f\"Error al crear la conexión a la base de datos:\", e)\n",
    "\n",
    "    def crear_tabla_tiingo(self):\n",
    "        if self.conn is not None:\n",
    "            try:\n",
    "                cur = self.conn.cursor()\n",
    "                cur.execute(\"\"\"\n",
    "                CREATE TABLE IF NOT EXISTS hvzambrana_coderhouse.tiingo (\n",
    "                    simbolo VARCHAR(10) DISTKEY NOT NULL,\n",
    "                    fecha_ingesta TIMESTAMP DEFAULT CURRENT_TIMESTAMP, \n",
    "                    fecha TIMESTAMP SORTKEY NOT NULL,\n",
    "                    apertura FLOAT(15) NULL,\n",
    "                    maximo FLOAT(15) NULL,\n",
    "                    minimo FLOAT(15) NULL,\n",
    "                    cierre FLOAT(15) NULL,\n",
    "                    volumen INTEGER NULL\n",
    "                );\n",
    "                \"\"\")\n",
    "                self.conn.commit()\n",
    "                print(\"Tabla creada exitosamente.\")\n",
    "            except Exception as e:\n",
    "                print(f\"Error al crear la tabla:\", e)\n",
    "        else:\n",
    "            print(\"No hay conexión a la base de datos.\")\n",
    "\n",
    "    def cerrar_conexion(self):\n",
    "        if self.conn is not None:\n",
    "            self.conn.close()\n",
    "            print(\"Conexión cerrada correctamente.\")\n",
    "        else:\n",
    "            print(\"No hay conexión para cerrar.\")\n",
    "\n",
    "# Crear instancia de la clase BaseDatosTiingo con los datos de conexión de .env\n",
    "bd_tiingo = BaseDatosTiingo(my_host, port, database_name, user, password)\n",
    "\n",
    "# Conectar con la base de datos\n",
    "bd_tiingo.conectar()\n",
    "\n",
    "# Crear tabla en la base de datos\n",
    "bd_tiingo.crear_tabla_tiingo()\n",
    "\n",
    "# Cerrar conexión\n",
    "bd_tiingo.cerrar_conexion()"
   ]
  }
 ],
 "metadata": {
  "kernelspec": {
   "display_name": "Python 3",
   "language": "python",
   "name": "python3"
  },
  "language_info": {
   "codemirror_mode": {
    "name": "ipython",
    "version": 3
   },
   "file_extension": ".py",
   "mimetype": "text/x-python",
   "name": "python",
   "nbconvert_exporter": "python",
   "pygments_lexer": "ipython3",
   "version": "3.10.10"
  },
  "orig_nbformat": 4
 },
 "nbformat": 4,
 "nbformat_minor": 2
}
