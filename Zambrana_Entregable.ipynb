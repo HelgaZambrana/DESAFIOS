{
 "cells": [
  {
   "attachments": {},
   "cell_type": "markdown",
   "metadata": {},
   "source": [
    "## API Tiingo - Diario\n",
    "###### Helga Zambrana - Abril 2024"
   ]
  },
  {
   "cell_type": "markdown",
   "metadata": {},
   "source": [
    "#### Importar las librerías necesarias"
   ]
  },
  {
   "cell_type": "code",
   "execution_count": 26,
   "metadata": {},
   "outputs": [],
   "source": [
    "import requests\n",
    "from decouple import config\n",
    "import pandas as pd\n",
    "import psycopg2\n",
    "from sqlalchemy import create_engine, MetaData, Table, Column, Integer, String, Float, DateTime\n",
    "from sqlalchemy.dialects.postgresql import insert\n",
    "import datetime"
   ]
  },
  {
   "cell_type": "markdown",
   "metadata": {},
   "source": [
    "#### Leer el usuario, la contraseña y el token desde la variable de entorno"
   ]
  },
  {
   "cell_type": "code",
   "execution_count": 21,
   "metadata": {},
   "outputs": [],
   "source": [
    "my_host = config('DATABASE_HOST')\n",
    "port = config('DATABASE_PORT')\n",
    "password = config('DATABASE_PASSWORD')\n",
    "database_name = config('DATABASE_NAME')\n",
    "user = config('DATABASE_USER')\n",
    "token = config('TIINGO_TOKEN')"
   ]
  },
  {
   "cell_type": "markdown",
   "metadata": {},
   "source": [
    "#### Definir la clase TiingoData para manejar los datos de Tiingo"
   ]
  },
  {
   "cell_type": "code",
   "execution_count": 22,
   "metadata": {},
   "outputs": [],
   "source": [
    "# Definir la clase ListaSimbolos para manejar los símbolos\n",
    "class ListaSimbolos:\n",
    "    def __init__(self, simbolos):\n",
    "        self.simbolos = simbolos\n",
    "    \n",
    "    def __call__(self):\n",
    "        return self.simbolos\n",
    "\n",
    "class TiingoData:\n",
    "    # Inicializar atributos de la clase\n",
    "    def __init__(self, token):\n",
    "        self.token = token\n",
    "\n",
    "    def get_data(self, lista_simbolos):\n",
    "        simbolos = lista_simbolos()\n",
    "        precios = []\n",
    "\n",
    "        for simbolo in simbolos:\n",
    "            url = f\"https://api.tiingo.com/tiingo/daily/{simbolo}/prices\"\n",
    "            parametros = {\n",
    "                'startDate': '2023-01-01',\n",
    "                'endDate': datetime.date.today().isoformat(),\n",
    "                'format': 'json',\n",
    "            }\n",
    "            headers = {\n",
    "                'Authorization': f'Token {self.token}'  # Agregar el token enmascarado en los headers\n",
    "            }\n",
    "\n",
    "            try:\n",
    "                respuesta = requests.get(url, params=parametros, headers=headers)\n",
    "                respuesta.raise_for_status()  # Lanzar una excepción si la solicitud no es exitosa\n",
    "                datos = respuesta.json()\n",
    "                \n",
    "                # Verificar la estructura de los datos\n",
    "                if isinstance(datos, list) and all(isinstance(item, dict) for item in datos):\n",
    "                    for dato in datos:\n",
    "                        dato['ticker'] = simbolo  # Agregar el símbolo a cada fila porque si no, no lo trae\n",
    "                    precios.extend(datos)\n",
    "                else:\n",
    "                    print(f\"Los datos recibidos para el símbolo {simbolo} no están en el formato esperado.\")\n",
    "            except requests.exceptions.RequestException as e:\n",
    "                print(f\"Error al hacer la solicitud para el símbolo {simbolo}:\", e)\n",
    "\n",
    "        if precios:\n",
    "            # Convertir los datos en un DataFrame de pandas\n",
    "            df = pd.DataFrame(precios)\n",
    "            # Filtrar y renombrar las columnas necesarias\n",
    "            columnas = {\n",
    "                'date': 'fecha',\n",
    "                'ticker': 'simbolo',\n",
    "                'open': 'apertura',\n",
    "                'high': 'maximo',\n",
    "                'low': 'minimo',\n",
    "                'close': 'cierre',\n",
    "                'volume': 'volumen',\n",
    "            }\n",
    "            df.rename(columns=columnas, inplace=True)\n",
    "            # Convertir la columna de fecha a tipo datetime\n",
    "            df['fecha'] = pd.to_datetime(df['fecha'])\n",
    "            return df\n",
    "        else:\n",
    "            return None"
   ]
  },
  {
   "cell_type": "markdown",
   "metadata": {},
   "source": [
    "#### Conectarse con Amazon Redshift y crear tabla (si no existe)"
   ]
  },
  {
   "cell_type": "code",
   "execution_count": 23,
   "metadata": {},
   "outputs": [],
   "source": [
    "class BaseDatosRedshift:\n",
    "    def __init__(self, host, port, database_name, user, password):\n",
    "        self.host = host\n",
    "        self.port = port\n",
    "        self.database_name = database_name\n",
    "        self.user = user\n",
    "        self.password = password\n",
    "        self.engine = None\n",
    "        self.metadata = MetaData()\n",
    "\n",
    "    def conectar(self):\n",
    "        try:\n",
    "            self.engine = create_engine(f'postgresql+psycopg2://{self.user}:{self.password}@{self.host}:{self.port}/{self.database_name}')\n",
    "            print(\"Conexión a la base de datos exitosa.\")\n",
    "        except Exception as e:\n",
    "            print(f\"Error al crear la conexión a la base de datos:\", e)\n",
    "\n",
    "    def crear_tabla_tiingo(self):\n",
    "        if self.engine is not None:\n",
    "            try:\n",
    "                tiingo_table = Table('tiingo', self.metadata,\n",
    "                                     autoload_with=self.engine,\n",
    "                                     schema='hvzambrana_coderhouse')\n",
    "                tiingo_table.create(self.engine, checkfirst=True)\n",
    "                print(\"Tabla ya existe.\")\n",
    "            except Exception as e:\n",
    "                print(f\"Error al crear la tabla:\", e)\n",
    "        else:\n",
    "            print(\"No hay conexión a la base de datos.\")\n",
    "\n",
    "    def cargar_datos(self, df):\n",
    "        if self.engine is not None:\n",
    "            try:\n",
    "                with self.engine.connect() as conn:\n",
    "                    # Cargar datos usando la clave primaria compuesta para reemplazar filas duplicadas\n",
    "                    df.to_sql('tiingo', con=conn, schema='hvzambrana_coderhouse', if_exists='replace', index=False, method='multi', chunksize=1000)\n",
    "                print(\"Datos cargados exitosamente.\")\n",
    "            except Exception as e:\n",
    "                print(f\"Error al cargar los datos en la tabla:\", e)\n",
    "        else:\n",
    "            print(\"No hay conexión a la base de datos.\")"
   ]
  },
  {
   "cell_type": "markdown",
   "metadata": {},
   "source": [
    "#### Obtener datos de Tiingo y cargarlos en Redshift"
   ]
  },
  {
   "cell_type": "code",
   "execution_count": 25,
   "metadata": {},
   "outputs": [
    {
     "name": "stdout",
     "output_type": "stream",
     "text": [
      "Conexión a la base de datos exitosa.\n",
      "Error al crear la tabla: (psycopg2.errors.UndefinedObject) unrecognized configuration parameter \"standard_conforming_strings\"\n",
      "\n",
      "[SQL: show standard_conforming_strings]\n",
      "(Background on this error at: https://sqlalche.me/e/20/f405)\n",
      "Error al cargar los datos en la tabla: (psycopg2.errors.UndefinedObject) unrecognized configuration parameter \"standard_conforming_strings\"\n",
      "\n",
      "[SQL: show standard_conforming_strings]\n",
      "(Background on this error at: https://sqlalche.me/e/20/f405)\n"
     ]
    }
   ],
   "source": [
    "# Lista de símbolos a consultar\n",
    "simbolos = ['AMZN', 'AAPL', 'DIS', 'GOOGL', 'JNJ', 'MCD', 'MELI', 'MSFT', 'NVDA', 'TSLA']\n",
    "lista_simbolos = ListaSimbolos(simbolos)\n",
    "\n",
    "# Crear instancia de TiingoData\n",
    "tiingo_data = TiingoData(token)\n",
    "\n",
    "# Obtener y mostrar los datos de Tiingo\n",
    "datos_tiingo_df = tiingo_data.get_data(lista_simbolos)\n",
    "\n",
    "# Crear instancia de la clase BaseDatosRedshift con los datos de conexión\n",
    "bd_redshift = BaseDatosRedshift(my_host, port, database_name, user, password)\n",
    "\n",
    "# Conectar con la base de datos\n",
    "bd_redshift.conectar()\n",
    "\n",
    "# Crear tabla en la base de datos\n",
    "bd_redshift.crear_tabla_tiingo()\n",
    "\n",
    "# Cargar los datos en Redshift\n",
    "if datos_tiingo_df is not None:\n",
    "    bd_redshift.cargar_datos(datos_tiingo_df)"
   ]
  }
 ],
 "metadata": {
  "kernelspec": {
   "display_name": "Python 3",
   "language": "python",
   "name": "python3"
  },
  "language_info": {
   "codemirror_mode": {
    "name": "ipython",
    "version": 3
   },
   "file_extension": ".py",
   "mimetype": "text/x-python",
   "name": "python",
   "nbconvert_exporter": "python",
   "pygments_lexer": "ipython3",
   "version": "3.10.10"
  },
  "orig_nbformat": 4
 },
 "nbformat": 4,
 "nbformat_minor": 2
}
