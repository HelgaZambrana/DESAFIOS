{
 "cells": [
  {
   "attachments": {},
   "cell_type": "markdown",
   "metadata": {},
   "source": [
    "## API Tiingo - Diario\n",
    "###### Helga Zambrana - Abril 2024"
   ]
  },
  {
   "cell_type": "markdown",
   "metadata": {},
   "source": [
    "#### Importar las librerías necesarias"
   ]
  },
  {
   "cell_type": "code",
   "execution_count": 78,
   "metadata": {},
   "outputs": [],
   "source": [
    "import requests\n",
    "from decouple import config\n",
    "import pandas as pd\n",
    "import psycopg2\n",
    "from sqlalchemy import create_engine, MetaData, Table, Column, Integer, String, Float, DateTime\n",
    "from sqlalchemy.dialects.postgresql import insert\n",
    "import datetime"
   ]
  },
  {
   "cell_type": "markdown",
   "metadata": {},
   "source": [
    "#### Leer el usuario, la contraseña y el token desde la variable de entorno"
   ]
  },
  {
   "cell_type": "code",
   "execution_count": 79,
   "metadata": {},
   "outputs": [],
   "source": [
    "my_host = config('DATABASE_HOST')\n",
    "port = config('DATABASE_PORT')\n",
    "password = config('DATABASE_PASSWORD')\n",
    "database_name = config('DATABASE_NAME')\n",
    "user = config('DATABASE_USER')\n",
    "token = config('TIINGO_TOKEN')"
   ]
  },
  {
   "cell_type": "markdown",
   "metadata": {},
   "source": [
    "#### Definir la clase ListaSimbolos para manejar los símbolos"
   ]
  },
  {
   "cell_type": "code",
   "execution_count": 80,
   "metadata": {},
   "outputs": [],
   "source": [
    "class ListaSimbolos:\n",
    "    def __init__(self, simbolos):\n",
    "        self.simbolos = simbolos\n",
    "    \n",
    "    def __call__(self):\n",
    "        return self.simbolos"
   ]
  },
  {
   "cell_type": "markdown",
   "metadata": {},
   "source": [
    "#### Definir la clase TiingoData para manejar los datos de Tiingo"
   ]
  },
  {
   "cell_type": "code",
   "execution_count": 81,
   "metadata": {},
   "outputs": [],
   "source": [
    "class TiingoData:\n",
    "    # Inicializar atributos de la clase\n",
    "    def __init__(self, token):\n",
    "        self.token = token\n",
    "\n",
    "    def get_data(self, lista_simbolos):\n",
    "        simbolos = lista_simbolos()\n",
    "        precios = []\n",
    "\n",
    "        for simbolo in simbolos:\n",
    "            url = f\"https://api.tiingo.com/tiingo/daily/{simbolo}/prices\"\n",
    "            parametros = {\n",
    "                'startDate': '2023-01-01',\n",
    "                'endDate': datetime.date.today().isoformat(),\n",
    "                'format': 'json',\n",
    "            }\n",
    "            headers = {\n",
    "                'Authorization': f'Token {self.token}'  # Agregar el token enmascarado en los headers\n",
    "            }\n",
    "\n",
    "            try:\n",
    "                respuesta = requests.get(url, params=parametros, headers=headers)\n",
    "                respuesta.raise_for_status()  # Lanzar una excepción si la solicitud no es exitosa\n",
    "                datos = respuesta.json()\n",
    "                \n",
    "                # Verificar la estructura de los datos\n",
    "                if isinstance(datos, list) and all(isinstance(item, dict) for item in datos):\n",
    "                    for dato in datos:\n",
    "                        dato['ticker'] = simbolo  # Agregar el símbolo a cada fila porque si no, no lo trae\n",
    "                    precios.extend(datos)\n",
    "                else:\n",
    "                    print(f\"Aviso: Los datos recibidos para el símbolo {simbolo} no están en el formato esperado.\")\n",
    "            except requests.exceptions.RequestException as e:\n",
    "                print(f\"Error al hacer la solicitud para el símbolo {simbolo}:\", e)\n",
    "\n",
    "        if precios:\n",
    "            # Convertir los datos en un DataFrame de pandas\n",
    "            df = pd.DataFrame(precios)\n",
    "            # Filtrar y renombrar las columnas necesarias\n",
    "            columnas = {\n",
    "                'date': 'fecha',\n",
    "                'ticker': 'simbolo',\n",
    "                'open': 'apertura',\n",
    "                'high': 'maximo',\n",
    "                'low': 'minimo',\n",
    "                'close': 'cierre',\n",
    "                'volume': 'volumen',\n",
    "            }\n",
    "            df.rename(columns=columnas, inplace=True)\n",
    "            # Convertir la columna de fecha a tipo datetime\n",
    "            df['fecha'] = pd.to_datetime(df['fecha'])\n",
    "            print(\"Datos obtenidos exitosamente.\")\n",
    "            return df\n",
    "        else:\n",
    "            print(\"No se obtuvieron datos para los símbolos especificados.\")\n",
    "            return None"
   ]
  },
  {
   "cell_type": "markdown",
   "metadata": {},
   "source": [
    "#### Conectarse con Amazon Redshift y crear tabla (si no existe)"
   ]
  },
  {
   "cell_type": "code",
   "execution_count": 82,
   "metadata": {},
   "outputs": [],
   "source": [
    "class BaseDatosRedshift:\n",
    "    def __init__(self, host, port, database_name, user, password):\n",
    "        self.host = host\n",
    "        self.port = port\n",
    "        self.database_name = database_name\n",
    "        self.user = user\n",
    "        self.password = password\n",
    "        self.conn = None\n",
    "        self.cur = None\n",
    "        self.metadata = MetaData()\n",
    "\n",
    "    def conectar(self):\n",
    "        try:\n",
    "            # Conectar a la base de datos utilizando psycopg2\n",
    "            self.conn = psycopg2.connect(host=self.host, port=self.port, user=self.user, password=self.password, database=self.database_name)\n",
    "            self.cur = self.conn.cursor()\n",
    "            print(\"Conexión a la base de datos exitosa.\")\n",
    "        except Exception as e:\n",
    "            print(f\"Error al crear la conexión a la base de datos:\", e)\n",
    "            \n",
    "    def tabla_existe(self, nombre_tabla):\n",
    "        # Verificar si la tabla existe en la base de datos\n",
    "        self.cur.execute(f\"SELECT EXISTS (SELECT 1 FROM information_schema.tables WHERE table_name = '{nombre_tabla}')\")\n",
    "        return self.cur.fetchone()[0]\n",
    "    \n",
    "    def crear_tabla_tiingo(self):\n",
    "        if self.cur is not None:\n",
    "            try:\n",
    "                if not self.tabla_existe('hvzambrana_coderhouse.tiingo'):\n",
    "                    # Crear la tabla solo si no existe\n",
    "                    create_table_query = \"\"\"\n",
    "                    CREATE TABLE hvzambrana_coderhouse.tiingo (\n",
    "                        simbolo VARCHAR(10) NOT NULL,\n",
    "                        fecha TIMESTAMP NOT NULL,\n",
    "                        apertura FLOAT NULL,\n",
    "                        maximo FLOAT NULL,\n",
    "                        minimo FLOAT NULL,\n",
    "                        cierre FLOAT NULL,\n",
    "                        volumen INTEGER NULL,\n",
    "                        fecha_ingesta TIMESTAMP DEFAULT CURRENT_TIMESTAMP,\n",
    "                        PRIMARY KEY (simbolo, fecha)\n",
    "                    )\n",
    "                    \"\"\"\n",
    "                    self.cur.execute(create_table_query)\n",
    "                    self.conn.commit()\n",
    "                    print(\"Tabla creada exitosamente.\")\n",
    "                else:\n",
    "                    print(\"La tabla ya existe.\")\n",
    "            except Exception as e:\n",
    "                print(f\"Error al crear la tabla:\", e)\n",
    "        else:\n",
    "            print(\"No hay conexión a la base de datos.\")\n",
    "\n",
    "    def cargar_datos(self, df):\n",
    "        if self.cur is not None:\n",
    "            try:\n",
    "                if not self.tabla_existe('hvzambrana_coderhouse.tiingo'):\n",
    "                    print(\"La tabla no existe. No se pueden cargar datos.\")\n",
    "                    return\n",
    "\n",
    "                # Cargar los datos utilizando psycopg2\n",
    "                for index, row in df.iterrows():\n",
    "                    insert_query = \"\"\"\n",
    "                    INSERT INTO hvzambrana_coderhouse.tiingo (simbolo, fecha, apertura, maximo, minimo, cierre, volumen, fecha_ingesta)\n",
    "                    VALUES (%s, %s, %s, %s, %s, %s, %s, %s)\n",
    "                    ON CONFLICT (simbolo, fecha) DO UPDATE\n",
    "                    SET apertura = EXCLUDED.apertura,\n",
    "                        maximo = EXCLUDED.maximo,\n",
    "                        minimo = EXCLUDED.minimo,\n",
    "                        cierre = EXCLUDED.cierre,\n",
    "                        volumen = EXCLUDED.volumen,\n",
    "                        fecha_ingesta = EXCLUDED.fecha_ingesta\n",
    "                    \"\"\"\n",
    "                    self.cur.execute(insert_query, (row['simbolo'], row['fecha'], row['apertura'], row['maximo'], row['minimo'], row['cierre'], row['volumen'], datetime.datetime.now()))\n",
    "                self.conn.commit()\n",
    "                print(\"Datos cargados exitosamente.\")\n",
    "            except Exception as e:\n",
    "                print(f\"Error al cargar los datos en la tabla:\", e)\n",
    "        else:\n",
    "            print(\"No hay conexión a la base de datos.\")"
   ]
  },
  {
   "cell_type": "markdown",
   "metadata": {},
   "source": [
    "#### Obtener datos de Tiingo y cargarlos en Redshift"
   ]
  },
  {
   "cell_type": "code",
   "execution_count": 83,
   "metadata": {},
   "outputs": [
    {
     "name": "stdout",
     "output_type": "stream",
     "text": [
      "Error al hacer la solicitud para el símbolo AMZN: 429 Client Error: Too Many Requests for url: https://api.tiingo.com/tiingo/daily/AMZN/prices?startDate=2023-01-01&endDate=2024-04-25&format=json\n",
      "Error al hacer la solicitud para el símbolo AAPL: 429 Client Error: Too Many Requests for url: https://api.tiingo.com/tiingo/daily/AAPL/prices?startDate=2023-01-01&endDate=2024-04-25&format=json\n",
      "Error al hacer la solicitud para el símbolo DIS: 429 Client Error: Too Many Requests for url: https://api.tiingo.com/tiingo/daily/DIS/prices?startDate=2023-01-01&endDate=2024-04-25&format=json\n",
      "Error al hacer la solicitud para el símbolo GOOGL: 429 Client Error: Too Many Requests for url: https://api.tiingo.com/tiingo/daily/GOOGL/prices?startDate=2023-01-01&endDate=2024-04-25&format=json\n",
      "Error al hacer la solicitud para el símbolo JNJ: 429 Client Error: Too Many Requests for url: https://api.tiingo.com/tiingo/daily/JNJ/prices?startDate=2023-01-01&endDate=2024-04-25&format=json\n",
      "Error al hacer la solicitud para el símbolo MCD: 429 Client Error: Too Many Requests for url: https://api.tiingo.com/tiingo/daily/MCD/prices?startDate=2023-01-01&endDate=2024-04-25&format=json\n",
      "Error al hacer la solicitud para el símbolo MELI: 429 Client Error: Too Many Requests for url: https://api.tiingo.com/tiingo/daily/MELI/prices?startDate=2023-01-01&endDate=2024-04-25&format=json\n",
      "Error al hacer la solicitud para el símbolo MSFT: 429 Client Error: Too Many Requests for url: https://api.tiingo.com/tiingo/daily/MSFT/prices?startDate=2023-01-01&endDate=2024-04-25&format=json\n",
      "Error al hacer la solicitud para el símbolo NVDA: 429 Client Error: Too Many Requests for url: https://api.tiingo.com/tiingo/daily/NVDA/prices?startDate=2023-01-01&endDate=2024-04-25&format=json\n",
      "Error al hacer la solicitud para el símbolo TSLA: 429 Client Error: Too Many Requests for url: https://api.tiingo.com/tiingo/daily/TSLA/prices?startDate=2023-01-01&endDate=2024-04-25&format=json\n",
      "No se obtuvieron datos para los símbolos especificados.\n",
      "Conexión a la base de datos exitosa.\n",
      "Error al crear la tabla: Relation \"tiingo\" already exists\n",
      "\n",
      "No se obtuvieron datos para los símbolos especificados.\n"
     ]
    }
   ],
   "source": [
    "# Lista de símbolos a consultar\n",
    "simbolos = ['AMZN', 'AAPL', 'DIS', 'GOOGL', 'JNJ', 'MCD', 'MELI', 'MSFT', 'NVDA', 'TSLA']\n",
    "lista_simbolos = ListaSimbolos(simbolos)\n",
    "\n",
    "# Crear instancia de TiingoData\n",
    "tiingo_data = TiingoData(token)\n",
    "\n",
    "# Obtener y mostrar los datos de Tiingo\n",
    "datos_tiingo_df = tiingo_data.get_data(lista_simbolos)\n",
    "\n",
    "# Crear instancia de la clase BaseDatosRedshift con los datos de conexión\n",
    "bd_redshift = BaseDatosRedshift(my_host, port, database_name, user, password)\n",
    "\n",
    "# Conectar con la base de datos\n",
    "bd_redshift.conectar()\n",
    "\n",
    "# Crear tabla en la base de datos\n",
    "bd_redshift.crear_tabla_tiingo()\n",
    "\n",
    "# Cargar los datos en Redshift si hay datos disponibles\n",
    "if datos_tiingo_df is not None:\n",
    "    bd_redshift.cargar_datos(datos_tiingo_df)\n",
    "else:\n",
    "    print(\"No se obtuvieron datos para los símbolos especificados.\")"
   ]
  }
 ],
 "metadata": {
  "kernelspec": {
   "display_name": "Python 3",
   "language": "python",
   "name": "python3"
  },
  "language_info": {
   "codemirror_mode": {
    "name": "ipython",
    "version": 3
   },
   "file_extension": ".py",
   "mimetype": "text/x-python",
   "name": "python",
   "nbconvert_exporter": "python",
   "pygments_lexer": "ipython3",
   "version": "3.10.10"
  },
  "orig_nbformat": 4
 },
 "nbformat": 4,
 "nbformat_minor": 2
}
